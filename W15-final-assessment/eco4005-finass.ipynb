{
 "cells": [
  {
   "cell_type": "code",
   "execution_count": 1,
   "id": "8f37f98c",
   "metadata": {},
   "outputs": [],
   "source": [
    "import matplotlib.pyplot as plt\n",
    "import numpy as np"
   ]
  },
  {
   "cell_type": "markdown",
   "id": "fd6fbaaa",
   "metadata": {},
   "source": [
    "# Instructions\n",
    "\n",
    "1. Use this notebook to provide your solutions. \n",
    "\n",
    "2. Submit executable notebook (``.ipynb`` file) to the ``icampus`` assignment item.\n",
    "\n",
    "3. Download a copy of your notebook to HTML and then save that as a PDF file. Include that in your submission!\n",
    "\n",
    "    * Ensure your LaTeX math are typed precisely.\n",
    "\n",
    "    * Sloppyness in LaTeX typing may cause the HTML rendering faulty.\n",
    "\n",
    "4. Type your NAME (in Alphabet and Korean) and STUDENT ID number."
   ]
  },
  {
   "cell_type": "markdown",
   "id": "8c23b50a",
   "metadata": {},
   "source": [
    "## Final Assessment"
   ]
  },
  {
   "cell_type": "markdown",
   "id": "5c347649",
   "metadata": {},
   "source": [
    "Time is discrete and infinite: $t \\in\\mathbb{N}$. Consider a representative agent in a population of size 1. There is also a measure one of \"firms\". The agent consumes $(c_{t})$, demands assets in the form of fiat money $(M_{t}^{d})$ and shares in firms ($x_{t}$). The agent demands money because there is a transactions-technology constraint: Consumption goods must be purchased using money. This *cash-in-advance* constraint is given by $c_{t} \\leq\\ M_{t}^{d}\\phi_{t}$, where $\\phi$ is the value of a dollar measured in units of the consumption good. The agent also demands shares in firms that produce output/income $Y_{t}$ per share. Total shares purchased at date $t$ is $x_{t}$. Let $q_{t}$ denote the date $t$ market price for a share. Let $M_{t}$ be money supply.\n",
    "\n",
    "**Exogenous processes.** Assume that money supply growth and firms' output growth, respectively, are $M_{t}/M_{t-1} = \\mu_{t}$ and $Y_{t}/Y_{t-1}=\\eta_{t}$ with $M_{-1}$ and $Y_{-1}$ given. (For concreteness, you may assume that $s_{t} := (\\eta_{t}, \\mu_{t})$ is given by two independent, homogenous and finite-state Markov chains.)\n",
    "\n",
    "**Bounded growth.** Assume that $\\mathbb{E}_{0}\\left\\{\\eta_{t}^{1-\\sigma}/\\mu_{t}\\right\\} < 1/\\beta$.\n",
    "\n",
    "**Timing**. At the beginning of a period $t$, the agent observes outcomes of the monetary and endowment shocks $s_{t}$. Their initial wealth consists of transfer $(\\mu_{t}-1)M_{t-1}\\phi_{t}$ of new money from the government, residual money balance carried over from the previous period $\\left(M_{t-1}^{d}\\phi_{t} - c_{t-1}\\frac{\\phi_{t}}{\\phi_{t-1}}\\right)$ and dividend-income plus capitalized value of share holdings $\\left(q_{t} + Y_{t-1}\\frac{\\phi_{t}}{\\phi_{t-1}}\\right)x_{t-1}$. These are all measured in units of date-$t$ consumption good.\n",
    "\n",
    "The periodic budget constraint is thus:\n",
    "\n",
    "$$\n",
    "M_{t}^{d}\\phi_{t} + x_{t}q_{t} \\leq (\\mu_{t}-1)M_{t-1}\\phi_{t}\n",
    "                                    + \\left(M_{t-1}^{d}\\phi_{t} - c_{t-1}\\frac{\\phi_{t}}{\\phi_{t-1}}\\right)\n",
    "                                    + \\left(q_{t} + Y_{t-1}\\frac{\\phi_{t}}{\\phi_{t-1}}\\right)x_{t-1}.\n",
    "$$\n",
    "\n",
    "**Preference representation.** The agent's objective function is \n",
    "\n",
    "$$\n",
    "    \\mathbb{E}_{0}\\sum_{t=0}^{\\infty}\\beta^{t}\\frac{c_{t}^{1-\\sigma}}{1-\\sigma}, \\qquad \\beta\\in(0,1), \\sigma>0,\n",
    "$$\n",
    "where $\\mathbb{E}_{t} \\equiv \\mathbb{E}\\left\\{ \\cdot\\ | s_{t} \\right\\}$ is the linear expectations operator conditioned on the information set at the start of date $t$.\n",
    "\n",
    "\n",
    "**Competitive equilibrium.**\n",
    "\n",
    "In equilibrium $c_{t} = Y_{t}$, $x_{t} = 1$ and $M_{t}^{d} = M_{t}$. As such, the pair of random variables $s_{t} := (\\eta_{t}, \\mu_{t})$ sufficiently summarizes the state of the consumer's decision environment at the start of date $t$.\n"
   ]
  },
  {
   "cell_type": "markdown",
   "id": "d2cc183f",
   "metadata": {},
   "source": [
    "**Answer these questions.**"
   ]
  },
  {
   "cell_type": "markdown",
   "id": "c568eb99",
   "metadata": {},
   "source": [
    "**Q1 (Bellman equation)**. Write down the agent's optimization problem recursively. "
   ]
  },
  {
   "cell_type": "markdown",
   "id": "984f1e14",
   "metadata": {},
   "source": []
  },
  {
   "cell_type": "markdown",
   "id": "f41711e7",
   "metadata": {},
   "source": [
    "**Q2 (Equilibrium derivation and your understanding of an expectations operator)**. If the exogenous growth-rate variables are Markov chains, describe the *recursive equilibrium* by explicitly writing out the conditional expectations operator in terms of the Markov chains' objects. (Choose appropriate notation for the Markov chains.) Hint: Show that the equilibrium is characterized by a pair of Euler inequalities (or equations with Karush-Kuhn-Tucker complementary slackness conditions).\n",
    "\n",
    "Interpret in words what these conditions say!"
   ]
  },
  {
   "cell_type": "code",
   "execution_count": null,
   "id": "8740c980",
   "metadata": {},
   "outputs": [],
   "source": []
  },
  {
   "cell_type": "markdown",
   "id": "d4b9d682",
   "metadata": {},
   "source": [
    "**Q3 (Polish gymnasium)**. Verify that the conditions (plus the regularity assumptions made) imply that there is a unique equilibrium. *Hint*: Does the equilibrium description satisfy the conditions for applying Banach's fixed point theorem?"
   ]
  },
  {
   "cell_type": "code",
   "execution_count": null,
   "id": "aa9f595c",
   "metadata": {},
   "outputs": [],
   "source": []
  },
  {
   "cell_type": "markdown",
   "id": "9794239b",
   "metadata": {},
   "source": [
    "**Q4 (Role of regularity assumption)**. What role, technically, did the \"bounded growth\" assumption play in your proof above? What might be an economic interpretation and therefore implication, of such an assumption for this model?"
   ]
  },
  {
   "cell_type": "code",
   "execution_count": null,
   "id": "1c1da7bb",
   "metadata": {},
   "outputs": [],
   "source": []
  },
  {
   "cell_type": "markdown",
   "id": "477085fa",
   "metadata": {},
   "source": [
    "**Q5 (Computational skills - Optional, Bonus 40%)**. Choose a set of parametrization from [Giovannini and Labadie](http://dx.doi.org/10.1086/261798) (1991) and try computing the model's equilibrium. Can you simulate its implied equilibrium asset pricing relationships? *Hint*: You may use the code below to approximate a continous state AR(1) process by a finite-state Markov chain."
   ]
  },
  {
   "cell_type": "code",
   "execution_count": null,
   "id": "d1f35f23",
   "metadata": {},
   "outputs": [],
   "source": [
    "# Q5 - you should be able to modify from existing codes provided to do this. \n",
    "# Use your imagination. \n",
    "# This will be a good test of your theoretical understanding and practical \n",
    "# skillset.\n",
    "\n"
   ]
  },
  {
   "cell_type": "markdown",
   "id": "fd5b0764",
   "metadata": {},
   "source": [
    "# Tools"
   ]
  },
  {
   "cell_type": "code",
   "execution_count": null,
   "id": "8b699320",
   "metadata": {},
   "outputs": [],
   "source": [
    "def ar2mc(RHO, SIGMA, N):\n",
    "    \"\"\"\n",
    "        Approximate an AR1 model by a finite-state-space Markov Chain (MC)\n",
    "        (Rouwenhorst 1995, Econometrica). This method outperforms earlier\n",
    "        approximation schemes of Tauchen (1986) or Tauchen and Hussey (1991)\n",
    "        when RHO is very close to 1: Kopecky and Suen (2010, RED).\n",
    "\n",
    "        Input: AR(1) model parameters, \n",
    "                    y(t) = RHO*y(t-1) + SIGMA*u(t), u(t) ~ Normal(0,1)\n",
    "               N, desired cardinality of finite state space (S) of approx. MC\n",
    "\n",
    "        Output: (S, P), state space and Markov matrix. S is row vector with N   \n",
    "                elements.\n",
    "        \"\"\"\n",
    "\n",
    "    # State space S\n",
    "    bound = np.sqrt((N-1)/(1-RHO**2.0))*SIGMA\n",
    "    S = np.linspace(-bound, bound, N)\n",
    "    # Transition probabilities (N = 2).\n",
    "    p = (RHO + 1.0) / 2.0\n",
    "    q = p\n",
    "    # Initial P_temp is P for N = 2 case\n",
    "    P_temp = np.array([[p,  1-p],\n",
    "                        [1-q, q]])\n",
    "    # Construct transition matrix P\n",
    "    if N == 2:\n",
    "        P = P_temp\n",
    "    elif N > 2:\n",
    "        # Recursive build of P for N > 2\n",
    "        for n in range(3, N+1):\n",
    "            block1 = np.zeros((n, n))\n",
    "            block2 = block1.copy()\n",
    "            block3 = block1.copy()\n",
    "            block4 = block1.copy()\n",
    "            # Fill with last iteration's P_temp\n",
    "            block1[:-1, :-1] = P_temp\n",
    "            block2[:-1, 1:] = P_temp\n",
    "            block3[1:, :-1] = P_temp\n",
    "            block4[1:, 1:] = P_temp\n",
    "            # Update P_temp for next iteration\n",
    "            P_temp = p*block1 + (1-p)*block2 + (1-q)*block3 + q*block4\n",
    "            P_temp[1:-1, :] = P_temp[1:-1, :]/2\n",
    "        # Final P for N > 2\n",
    "        P = P_temp\n",
    "    return S, P"
   ]
  },
  {
   "cell_type": "markdown",
   "id": "b6fb4936",
   "metadata": {},
   "source": [
    "# References\n",
    "\n",
    "* [Alberto Giovannini and Pamela Labadie](http://dx.doi.org/10.1086/261798) (1991), \"Asset Prices and Interest Rates in Cash-in-Advance Models.\" *Journal of Political Economy*, vol. 99, issue 6, 1215-51.\n",
    "\n"
   ]
  }
 ],
 "metadata": {
  "kernelspec": {
   "display_name": "Python 3.9.6 64-bit",
   "language": "python",
   "name": "python3"
  },
  "language_info": {
   "codemirror_mode": {
    "name": "ipython",
    "version": 3
   },
   "file_extension": ".py",
   "mimetype": "text/x-python",
   "name": "python",
   "nbconvert_exporter": "python",
   "pygments_lexer": "ipython3",
   "version": "3.9.6"
  },
  "latex_envs": {
   "LaTeX_envs_menu_present": true,
   "autoclose": false,
   "autocomplete": true,
   "bibliofile": "biblio.bib",
   "cite_by": "apalike",
   "current_citInitial": 1,
   "eqLabelWithNumbers": true,
   "eqNumInitial": 1,
   "hotkeys": {
    "equation": "Ctrl-E",
    "itemize": "Ctrl-I"
   },
   "labels_anchors": false,
   "latex_user_defs": false,
   "report_style_numbering": false,
   "user_envs_cfg": false
  },
  "toc": {
   "base_numbering": 1,
   "nav_menu": {},
   "number_sections": true,
   "sideBar": true,
   "skip_h1_title": false,
   "title_cell": "Table of Contents",
   "title_sidebar": "Contents",
   "toc_cell": true,
   "toc_position": {},
   "toc_section_display": true,
   "toc_window_display": true
  },
  "vscode": {
   "interpreter": {
    "hash": "31f2aee4e71d21fbe5cf8b01ff0e069b9275f58929596ceb00d14d90e3e16cd6"
   }
  }
 },
 "nbformat": 4,
 "nbformat_minor": 5
}
