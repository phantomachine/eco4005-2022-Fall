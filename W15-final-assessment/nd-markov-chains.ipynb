{
 "cells": [
  {
   "cell_type": "markdown",
   "id": "e071eaf7",
   "metadata": {},
   "source": [
    "# Multidimensional Markov Chains\n",
    "\n",
    "T. Kam"
   ]
  },
  {
   "cell_type": "markdown",
   "id": "eda263c6",
   "metadata": {
    "toc": true
   },
   "source": [
    "<h1>Table of Contents<span class=\"tocSkip\"></span></h1>\n",
    "<div class=\"toc\"><ul class=\"toc-item\"><li><span><a href=\"#Multidimensional-Markov-Chains\" data-toc-modified-id=\"Multidimensional-Markov-Chains-1\">Multidimensional Markov Chains</a></span><ul class=\"toc-item\"><li><span><a href=\"#Example-(uncorrelated-chains)\" data-toc-modified-id=\"Example-(uncorrelated-chains)-1.1\">Example (uncorrelated chains)</a></span><ul class=\"toc-item\"><li><span><a href=\"#Joint-Markov-matrix\" data-toc-modified-id=\"Joint-Markov-matrix-1.1.1\">Joint Markov matrix</a></span></li><li><span><a href=\"#State-space-and-nodes\" data-toc-modified-id=\"State-space-and-nodes-1.1.2\">State space and nodes</a></span></li><li><span><a href=\"#Visualize-2D-Markov-chain-as-a-directed-graph\" data-toc-modified-id=\"Visualize-2D-Markov-chain-as-a-directed-graph-1.1.3\">Visualize 2D Markov chain as a directed graph</a></span></li></ul></li></ul></li><li><span><a href=\"#References\" data-toc-modified-id=\"References-2\">References</a></span></li></ul></div>"
   ]
  },
  {
   "cell_type": "code",
   "execution_count": 16,
   "id": "83b72def",
   "metadata": {},
   "outputs": [],
   "source": [
    "import matplotlib.pyplot as plt\n",
    "import numpy as np\n",
    "import itertools\n",
    "import networkx as nx\n",
    "import matplotlib.pyplot as plt\n",
    "from matplotlib import cm"
   ]
  },
  {
   "cell_type": "markdown",
   "id": "2d307f6e",
   "metadata": {},
   "source": [
    "## Example (uncorrelated chains)\n",
    "\n",
    "Suppose we want to create a joint transitional probability (Markov) matrix for the pair of Markov-chain random variables $(X_{1}, X_{2})$.\n",
    "\n",
    "Let's use ``SymPy`` to illustrate this algebraically in a two-state example for each Markov-chain random variable."
   ]
  },
  {
   "cell_type": "code",
   "execution_count": 2,
   "id": "25033cca",
   "metadata": {},
   "outputs": [],
   "source": [
    "from sympy import symbols, Matrix, simplify, Mul, zeros, shape\n",
    "from sympy.physics.quantum import TensorProduct"
   ]
  },
  {
   "cell_type": "code",
   "execution_count": 3,
   "id": "9d1a975b",
   "metadata": {},
   "outputs": [],
   "source": [
    "# Define symbols for transition probabilities\n",
    "a, b, c, d = symbols(\"p_{00}, p_{01}, p_{10}, p_{11}\")\n",
    "e, f, g, h = symbols(\"q_{00}, q_{01}, q_{10}, q_{11}\")"
   ]
  },
  {
   "cell_type": "markdown",
   "id": "06a72960",
   "metadata": {},
   "source": [
    "Let's visualize this:"
   ]
  },
  {
   "cell_type": "code",
   "execution_count": 4,
   "id": "7e395103",
   "metadata": {},
   "outputs": [],
   "source": [
    "# Create our matrices\n",
    "Q1 = Matrix([[a, b], [c, d]])\n",
    "Q2 = Matrix([[e, f], [g, h]])"
   ]
  },
  {
   "cell_type": "code",
   "execution_count": 5,
   "id": "415a730a",
   "metadata": {},
   "outputs": [
    {
     "data": {
      "text/latex": [
       "$\\displaystyle \\left[\\begin{matrix}p_{00} q_{00} & p_{00} q_{01} & p_{01} q_{00} & p_{01} q_{01}\\\\p_{00} q_{10} & p_{00} q_{11} & p_{01} q_{10} & p_{01} q_{11}\\\\p_{10} q_{00} & p_{10} q_{01} & p_{11} q_{00} & p_{11} q_{01}\\\\p_{10} q_{10} & p_{10} q_{11} & p_{11} q_{10} & p_{11} q_{11}\\end{matrix}\\right]$"
      ],
      "text/plain": [
       "Matrix([\n",
       "[p_{00}*q_{00}, p_{00}*q_{01}, p_{01}*q_{00}, p_{01}*q_{01}],\n",
       "[p_{00}*q_{10}, p_{00}*q_{11}, p_{01}*q_{10}, p_{01}*q_{11}],\n",
       "[p_{10}*q_{00}, p_{10}*q_{01}, p_{11}*q_{00}, p_{11}*q_{01}],\n",
       "[p_{10}*q_{10}, p_{10}*q_{11}, p_{11}*q_{10}, p_{11}*q_{11}]])"
      ]
     },
     "execution_count": 5,
     "metadata": {},
     "output_type": "execute_result"
    }
   ],
   "source": [
    "# Create tensor (=> Kronecker) product\n",
    "P_example = TensorProduct(Q1, Q2)\n",
    "P_example"
   ]
  },
  {
   "cell_type": "markdown",
   "id": "27046134",
   "metadata": {},
   "source": [
    "### Joint Markov matrix\n",
    "\n",
    "Impose Markov matrix requirement. Evaluate:"
   ]
  },
  {
   "cell_type": "code",
   "execution_count": 6,
   "id": "23d14cd5",
   "metadata": {
    "scrolled": true
   },
   "outputs": [
    {
     "data": {
      "text/latex": [
       "$\\displaystyle \\left[\\begin{matrix}p_{00} q_{00} & p_{00} \\cdot \\left(1 - q_{00}\\right) & q_{00} \\cdot \\left(1 - p_{00}\\right) & \\left(1 - p_{00}\\right) \\left(1 - q_{00}\\right)\\\\p_{00} \\cdot \\left(1 - q_{11}\\right) & p_{00} q_{11} & \\left(1 - p_{00}\\right) \\left(1 - q_{11}\\right) & q_{11} \\cdot \\left(1 - p_{00}\\right)\\\\q_{00} \\cdot \\left(1 - p_{11}\\right) & \\left(1 - p_{11}\\right) \\left(1 - q_{00}\\right) & p_{11} q_{00} & p_{11} \\cdot \\left(1 - q_{00}\\right)\\\\\\left(1 - p_{11}\\right) \\left(1 - q_{11}\\right) & q_{11} \\cdot \\left(1 - p_{11}\\right) & p_{11} \\cdot \\left(1 - q_{11}\\right) & p_{11} q_{11}\\end{matrix}\\right]$"
      ],
      "text/plain": [
       "Matrix([\n",
       "[            p_{00}*q_{00},       p_{00}*(1 - q_{00}),       q_{00}*(1 - p_{00}), (1 - p_{00})*(1 - q_{00})],\n",
       "[      p_{00}*(1 - q_{11}),             p_{00}*q_{11}, (1 - p_{00})*(1 - q_{11}),       q_{11}*(1 - p_{00})],\n",
       "[      q_{00}*(1 - p_{11}), (1 - p_{11})*(1 - q_{00}),             p_{11}*q_{00},       p_{11}*(1 - q_{00})],\n",
       "[(1 - p_{11})*(1 - q_{11}),       q_{11}*(1 - p_{11}),       p_{11}*(1 - q_{11}),             p_{11}*q_{11}]])"
      ]
     },
     "execution_count": 6,
     "metadata": {},
     "output_type": "execute_result"
    }
   ],
   "source": [
    "b = 1-a\n",
    "c = 1-d\n",
    "f = 1-e\n",
    "g = 1-h\n",
    "Q1 = Matrix([[a, b], [c, d]])\n",
    "Q2 = Matrix([[e, f], [g, h]])\n",
    "P_markov = TensorProduct(Q1, Q2)\n",
    "P_markov"
   ]
  },
  {
   "cell_type": "markdown",
   "id": "447c7144",
   "metadata": {},
   "source": [
    "Each row vector of ``P_markov`` is now a (conditional) probability distribution.\n",
    "\n",
    "We can check that each row sums up to:"
   ]
  },
  {
   "cell_type": "code",
   "execution_count": 7,
   "id": "fa575f94",
   "metadata": {},
   "outputs": [
    {
     "data": {
      "text/latex": [
       "$\\displaystyle \\left[\\begin{matrix}1\\\\1\\\\1\\\\1\\end{matrix}\\right]$"
      ],
      "text/plain": [
       "Matrix([\n",
       "[1],\n",
       "[1],\n",
       "[1],\n",
       "[1]])"
      ]
     },
     "execution_count": 7,
     "metadata": {},
     "output_type": "execute_result"
    }
   ],
   "source": [
    "simplify(Matrix(np.sum(P_markov, axis=1)))"
   ]
  },
  {
   "cell_type": "markdown",
   "id": "af81bc44",
   "metadata": {},
   "source": [
    "### State space and nodes"
   ]
  },
  {
   "cell_type": "markdown",
   "id": "0189d9fb",
   "metadata": {},
   "source": [
    "Each node is a pair of state indices $(i,j) \\in S_{1} \\times S_{2}$. In this example, we chose $S_{1}=S_{2}=S=\\{0,1\\}$."
   ]
  },
  {
   "cell_type": "markdown",
   "id": "e02dbeac",
   "metadata": {},
   "source": [
    "Let's get our state space ordered accordingly as a Cartesian product state space:"
   ]
  },
  {
   "cell_type": "code",
   "execution_count": 8,
   "id": "82620cb6",
   "metadata": {
    "scrolled": true
   },
   "outputs": [
    {
     "name": "stdout",
     "output_type": "stream",
     "text": [
      "The state space is ...\n"
     ]
    },
    {
     "data": {
      "text/plain": [
       "[(0, 0), (0, 1), (1, 0), (1, 1)]"
      ]
     },
     "execution_count": 8,
     "metadata": {},
     "output_type": "execute_result"
    }
   ],
   "source": [
    "# States (index) in X1 chain\n",
    "s1 = range(shape(Q1)[0])\n",
    "\n",
    "# States (index) in X2 chain\n",
    "s2 = range(shape(Q2)[0])\n",
    "\n",
    "# Cartesian product state space - create as list of tuples\n",
    "S = [s for s in itertools.product(s1, s2)]\n",
    "print(\"The state space is ...\")\n",
    "S"
   ]
  },
  {
   "cell_type": "markdown",
   "id": "e4363f4f",
   "metadata": {},
   "source": [
    "### Visualize 2D Markov chain as a directed graph"
   ]
  },
  {
   "cell_type": "markdown",
   "id": "79072329",
   "metadata": {},
   "source": [
    "This list gives you the listing of each current node to next-period node. "
   ]
  },
  {
   "cell_type": "code",
   "execution_count": 9,
   "id": "0b35ff8d",
   "metadata": {
    "scrolled": true
   },
   "outputs": [
    {
     "data": {
      "text/plain": [
       "[((0, 0), (0, 0)),\n",
       " ((0, 0), (0, 1)),\n",
       " ((0, 0), (1, 0)),\n",
       " ((0, 0), (1, 1)),\n",
       " ((0, 1), (0, 0)),\n",
       " ((0, 1), (0, 1)),\n",
       " ((0, 1), (1, 0)),\n",
       " ((0, 1), (1, 1)),\n",
       " ((1, 0), (0, 0)),\n",
       " ((1, 0), (0, 1)),\n",
       " ((1, 0), (1, 0)),\n",
       " ((1, 0), (1, 1)),\n",
       " ((1, 1), (0, 0)),\n",
       " ((1, 1), (0, 1)),\n",
       " ((1, 1), (1, 0)),\n",
       " ((1, 1), (1, 1))]"
      ]
     },
     "execution_count": 9,
     "metadata": {},
     "output_type": "execute_result"
    }
   ],
   "source": [
    "Node2Node = [t for t in itertools.product(S, S)]\n",
    "Node2Node"
   ]
  },
  {
   "cell_type": "markdown",
   "id": "0fe09f9a",
   "metadata": {},
   "source": [
    "Or, if you like pictures, let's see the two-dimensional Markov chain here as a directed graph:"
   ]
  },
  {
   "cell_type": "code",
   "execution_count": 10,
   "id": "9e776cbf",
   "metadata": {},
   "outputs": [
    {
     "data": {
      "text/plain": [
       "array([[0.03, 0.07, 0.27, 0.63],\n",
       "       [0.08, 0.02, 0.72, 0.18],\n",
       "       [0.18, 0.42, 0.12, 0.28],\n",
       "       [0.48, 0.12, 0.32, 0.08]])"
      ]
     },
     "execution_count": 10,
     "metadata": {},
     "output_type": "execute_result"
    }
   ],
   "source": [
    "# Example - two independent Markov chains\n",
    "Q1 = np.array([[0.1, 0.9], [0.6, 0.4]])\n",
    "Q2 = np.array([[0.3, 0.7], [0.8, 0.2]])\n",
    "# 2D Markov matrix\n",
    "Q = np.kron(Q1, Q2)\n",
    "Q"
   ]
  },
  {
   "cell_type": "code",
   "execution_count": 11,
   "id": "b8375982",
   "metadata": {
    "scrolled": true
   },
   "outputs": [
    {
     "data": {
      "text/plain": [
       "array([1., 1., 1., 1.])"
      ]
     },
     "execution_count": 11,
     "metadata": {},
     "output_type": "execute_result"
    }
   ],
   "source": [
    "Q.sum(axis=1)"
   ]
  },
  {
   "cell_type": "code",
   "execution_count": 12,
   "id": "336e871d",
   "metadata": {},
   "outputs": [],
   "source": [
    "# Instantiate multi-edged directed graph\n",
    "G = nx.MultiDiGraph()\n",
    "\n",
    "# Storage for labels and associate edges\n",
    "labels={}\n",
    "edge_labels={}\n",
    "\n",
    "# Generate and store edge and node info, store in G\n",
    "for i, s_now in enumerate(S):\n",
    "    labels[s_now] = str(s_now)\n",
    "    for j, s_next in enumerate(S):\n",
    "        q = Q[i][j]\n",
    "        # Store only positive-weighted edge\n",
    "        if q > 0:\n",
    "            G.add_edge(s_now,\n",
    "                       s_next,\n",
    "                       weight=q,\n",
    "                       label=\"{:.02f}\".format(q))\n",
    "            edge_labels[(s_now, s_next)] = label=\"{:.02f}\".format(q)"
   ]
  },
  {
   "cell_type": "code",
   "execution_count": 13,
   "id": "264db8d7",
   "metadata": {},
   "outputs": [
    {
     "data": {
      "image/png": "[encoded data removed]",
      "text/plain": [
       "<Figure size 1152x576 with 1 Axes>"
      ]
     },
     "metadata": {},
     "output_type": "display_data"
    }
   ],
   "source": [
    "plt.figure(figsize=(16,8))\n",
    "# pos = nx.circular_layout(G)\n",
    "# pos = nx.spring_layout(G, seed=3113794652)\n",
    "pos = nx.kamada_kawai_layout(G)\n",
    "# TK-original\n",
    "nx.draw_networkx(G, pos, \n",
    "                 node_color=\"skyblue\", \n",
    "                 node_size=800,\n",
    "                 with_labels=True,\n",
    "                )\n",
    "# Add trans-probabilities for edges\n",
    "nx.draw_networkx_edge_labels(G, pos, edge_labels, \n",
    "                                     label_pos=0.2)\n",
    "plt.axis('off')\n",
    "plt.show()"
   ]
  },
  {
   "cell_type": "markdown",
   "id": "b6fb4936",
   "metadata": {},
   "source": [
    "# References\n",
    "\n",
    "* Ching, Wai-Ki, Shu-Qin Zhang and Michael K. Ng (2007): \"On Multi-dimensional Markov Chain\n",
    "Models.\" [*Pacific Journal of Optimization*.](https://citeseerx.ist.psu.edu/viewdoc/download?doi=10.1.1.592.7474&rep=rep1&type=pdf)\n",
    "\n",
    "* Ching, Wai-Ki, *High-dimensional Markov Chain Models and Their Applications*. [Slide deck](https://hkumath.hku.hk/~wkc/talks/markovchain.pdf)."
   ]
  }
 ],
 "metadata": {
  "kernelspec": {
   "display_name": "Python 3",
   "language": "python",
   "name": "python3"
  },
  "language_info": {
   "codemirror_mode": {
    "name": "ipython",
    "version": 3
   },
   "file_extension": ".py",
   "mimetype": "text/x-python",
   "name": "python",
   "nbconvert_exporter": "python",
   "pygments_lexer": "ipython3",
   "version": "3.7.4"
  },
  "latex_envs": {
   "LaTeX_envs_menu_present": true,
   "autoclose": true,
   "autocomplete": true,
   "bibliofile": "smolyak.bib",
   "cite_by": "apalike",
   "current_citInitial": 1,
   "eqLabelWithNumbers": true,
   "eqNumInitial": 1,
   "hotkeys": {
    "equation": "Ctrl-E",
    "itemize": "Ctrl-I"
   },
   "labels_anchors": false,
   "latex_user_defs": false,
   "report_style_numbering": true,
   "user_envs_cfg": true
  },
  "toc": {
   "base_numbering": 1,
   "nav_menu": {},
   "number_sections": false,
   "sideBar": true,
   "skip_h1_title": false,
   "title_cell": "Table of Contents",
   "title_sidebar": "Contents",
   "toc_cell": true,
   "toc_position": {},
   "toc_section_display": true,
   "toc_window_display": true
  }
 },
 "nbformat": 4,
 "nbformat_minor": 5
}
