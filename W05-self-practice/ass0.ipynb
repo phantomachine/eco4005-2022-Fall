{
 "cells": [
  {
   "cell_type": "markdown",
   "source": [
    "<h1>Table of Contents<span class=\"tocSkip\"></span></h1>\n",
    "<div class=\"toc\"><ul class=\"toc-item\"></ul></div>"
   ],
   "metadata": {
    "toc": true
   }
  },
  {
   "cell_type": "code",
   "execution_count": null,
   "source": [
    "import matplotlib.pyplot as plt\n",
    "import numpy as np\n",
    "import scipy.optimize as opt"
   ],
   "outputs": [],
   "metadata": {
    "scrolled": true
   }
  },
  {
   "cell_type": "markdown",
   "source": [
    "# Purpose\n",
    "\n",
    "This assignment tests your knowledge and creativity in:\n",
    "\n",
    "* working with various data types (e.g., ``int``, ``str``, ``float``);\n",
    "\n",
    "* writing custom, modular and reusable ``functions``;\n",
    "\n",
    "* organizing data using collections, e.g., ``dict``;\n",
    "\n",
    "* using ``control flow`` (writing iterations and conditional code blocks); \n",
    "\n",
    "* using scientific computing libraries such as ``NumPy``, ``SciPy``, and ``Matplotlib``; and\n",
    "\n",
    "* effective visual presentation.\n",
    "\n",
    "You are also tested in terms of the clarity of your communication/writing of your work and results.\n",
    "\n",
    "As far as possible explain your steps/code blocks using carefully chosen ``Markdown`` texts or ``Code`` comments.\n",
    "\n",
    "**Do not plagiarize**. If you use someone else's code or have benefitted from some code elsewhere, **cite the source(s)**!"
   ],
   "metadata": {}
  },
  {
   "cell_type": "code",
   "execution_count": null,
   "source": [
    "%matplotlib inline"
   ],
   "outputs": [],
   "metadata": {}
  },
  {
   "cell_type": "markdown",
   "source": [
    "Consider the Solow-Swan growth model. Capital stock per worker, $k_{t}$, summarizes the state of the Solow-Swan economy at the start of each date $t \\in \\{0, 1, 2, ...\\}$. "
   ],
   "metadata": {}
  },
  {
   "cell_type": "markdown",
   "source": [
    "The equilibrium evolution of capital stock per worker is given by the recursive relation:\n",
    "\n",
    "$$\n",
    "k_{t+1} = g(k_{t}).\n",
    "$$\n",
    "\n",
    "Per-worker output is determined by a function $f(k, z) = z k^{\\alpha}$.\n",
    "\n",
    "We know that equilibrium map $k \\mapsto g(k)$ is given by $g(k) = s f(k) + (1 -\\delta)k$.\n"
   ],
   "metadata": {}
  },
  {
   "cell_type": "markdown",
   "source": [
    "Assume that $\\alpha$, $s$ and $\\delta$ are numbers belonging to the set $(0,1)$ and $z > 0$."
   ],
   "metadata": {}
  },
  {
   "cell_type": "markdown",
   "source": [
    "Use the parameter settings below:"
   ],
   "metadata": {}
  },
  {
   "cell_type": "code",
   "execution_count": null,
   "source": [
    "α = 0.333\n",
    "z = 1.0\n",
    "δ = 0.10\n",
    "s = 0.20"
   ],
   "outputs": [],
   "metadata": {}
  },
  {
   "cell_type": "markdown",
   "source": [
    "*Hint*: In Jupyter, you can type variable names using Unicode text, such as Greek symbols. For $\\alpha$, we type (in the Code block):\n",
    "\n",
    "``\\alpha``\n",
    "\n",
    "and then we hit the ``tab`` key. This will turn into the Unicode-symbol for $\\alpha$."
   ],
   "metadata": {}
  },
  {
   "cell_type": "markdown",
   "source": [
    "**Question 1.**\n",
    "\n",
    "Calculate by hand, the (nontrivial) steady-state $k >0$ of this model. Recall a steady state satisfies the restriction: $k = k_{t+1}=k_{t}$."
   ],
   "metadata": {}
  },
  {
   "cell_type": "markdown",
   "source": [
    "**Answer 1.**\n",
    "\n",
    "``Type your answer into this Markdown cell here.``\n",
    "\n",
    "??\n",
    "\n",
    "``Then, calculate what you derived using the parameter values set above:``\n",
    "\n"
   ],
   "metadata": {}
  },
  {
   "cell_type": "code",
   "execution_count": null,
   "source": [
    "# Calculate k manually ...\n",
    "k_steadystate_manual = \n",
    "\n",
    "# Print to screen\n",
    "string_steadystate = \"Nontrivial steady state found. \\\n",
    "                     \\n\\t k = {k}        \"\n",
    "\n",
    "print(string_steadystate.format(k=k_steadystate_manual))"
   ],
   "outputs": [],
   "metadata": {}
  },
  {
   "cell_type": "markdown",
   "source": [
    "*Remark.* In this example, we have just solved, analytically, for a fixed point of the equation $g(k) - k = 0$. More generally, it may not be possible to solve for $k$ by hand! The next question shows how it may be done numerically.\n"
   ],
   "metadata": {}
  },
  {
   "cell_type": "markdown",
   "source": [
    "**Question 2.** Now verify your answer to the last question numerically. (Write a test to compare your numerically root-finding solution against the last hand-derived solution, and return a Boolean result.) Use the Code cell and hints below to complete your coding answer."
   ],
   "metadata": {}
  },
  {
   "cell_type": "markdown",
   "source": [
    "**Answer 2.**\n",
    "\n",
    "*Step 1*. Define a reusable Python function ``f`` for $f$:"
   ],
   "metadata": {}
  },
  {
   "cell_type": "code",
   "execution_count": null,
   "source": [
    "# STEP 1: Define your custom function f here.\n",
    "#         Don't forget to provide user-readable DOCSTRINGS!\n",
    "# .       You are also judged by how elegant and efficient your code is!\n",
    "\n",
    "# ... your code below ....\n",
    "\n",
    "def f(k, α=0.3333, z = 100.0):\n",
    "    \"\"\"Cobb-Douglas per-worker production function. Given per-worker capital, returns per-worker output.\n",
    "\n",
    "       Parameters\n",
    "       ----------\n",
    "       k (float)        per-worker capital\n",
    "       α (float)        capital income share of total income (default value set)\n",
    "       z (float)        technology/productivity level  (default value set)\n",
    "    \"\"\"\n",
    "    ?\n",
    "    ?\n",
    "    return ??\n"
   ],
   "outputs": [],
   "metadata": {}
  },
  {
   "cell_type": "markdown",
   "source": [
    "*Step 2.* Define the Solow-Swan equilibrium mapping as a reusable Python function ``g``:"
   ],
   "metadata": {}
  },
  {
   "cell_type": "code",
   "execution_count": null,
   "source": [
    "# STEP 2: Define the Solow-Swan equilibrium recursive relation\n",
    "\n",
    "# ... your code below ....\n",
    "\n",
    "def g(k, α=0.3333, δ=0.1, s=0.34, z=100.0):\n",
    "    \"\"\"Equilibrium supply of capital function. Given current per-worker capital, combine current saving and end-of-period remaining capital and returns total supply of next-period's capital. In equilibrium this equals the total demand by perfectly competitive firms.\n",
    " \n",
    "       Parameters\n",
    "       ----------\n",
    "       k (float)        per-worker capital\n",
    "       α (float)        capital income share of total income (default value set)\n",
    "       δ (float)        depreciation rate (default value set)\n",
    "       s (float)        saving rate (default value set)\n",
    "       z (float)        technology/productivity level  (default value set)     \n",
    "    \"\"\"\n",
    "    ?\n",
    "    ?\n",
    "    return ??"
   ],
   "outputs": [],
   "metadata": {}
  },
  {
   "cell_type": "markdown",
   "source": [
    "*Step 3.* It might be useful to first define an excess demand function $D$: \n",
    "\n",
    "$$\n",
    "D(k_{t}, k_{t+1}) = g(k_{t}) - k_{t+1}.\n",
    "$$\n"
   ],
   "metadata": {}
  },
  {
   "cell_type": "markdown",
   "source": [
    "Note that a steady state $k$ is, by definition, a root (i.e., a \"zero\" or a scalar fixed-point) of the equation $D(k, k) = 0$.\n",
    "\n",
    "\n",
    "Check that this excess demand function is continuous and monotone.\n"
   ],
   "metadata": {}
  },
  {
   "cell_type": "code",
   "execution_count": null,
   "source": [
    "# STEP 3:  Define steady-state excess demand for capital function\n",
    "\n",
    "# ... your code below ....\n",
    "\n",
    "def D(k, α=0.3333, δ=0.1, s=0.34, z=100.0):\n",
    "    \"\"\"Steady-state excess demand (capital market) given by k' - g(k)\n",
    "       where k is current capital and next-period capital remains constant\n",
    "       at k' = k.\n",
    "\n",
    "       Parameters\n",
    "       ----------\n",
    "       k (float)        per-worker capital\n",
    "\n",
    "       α (float)        capital income share of total income (default value set)\n",
    "       δ (float)        depreciation rate (default value set)\n",
    "       s (float)        saving rate (default value set)\n",
    "       z (float)        technology/productivity level  (default value set) \n",
    "    \"\"\"\n",
    "    return ??\n"
   ],
   "outputs": [],
   "metadata": {}
  },
  {
   "cell_type": "markdown",
   "source": [
    "*Step 4.* Solve for a (the?) steady state. If the function $D$ is everywhere continous and monotone, then numerically, you can use a method called ``brentq`` that is available in ``SciPy``'s ``optimize`` module. \n",
    "\n",
    "[Read up on this method here!](https://docs.scipy.org/doc/scipy/reference/generated/scipy.optimize.brentq.html)\n"
   ],
   "metadata": {}
  },
  {
   "cell_type": "markdown",
   "source": [],
   "metadata": {}
  },
  {
   "cell_type": "code",
   "execution_count": null,
   "source": [
    "# STEP 4: Solve for positive steady-state k (numerically!)\n",
    "#         Hint: Use SciPy's Optimize module, try method BRENTQ!\n",
    "\n",
    "# ... your code below ....\n",
    "\n",
    "# Define interval containing solution k > 0\n",
    "??\n",
    "\n",
    "# Use BRENTQ to find root of D(k) = 0\n",
    "??\n",
    "\n",
    "# Format and print to screen\n",
    "??\n"
   ],
   "outputs": [],
   "metadata": {}
  },
  {
   "cell_type": "markdown",
   "source": [
    "*Step 5.* Test if the answer here is similar to the hand-derived solution (at least up to a ``1e-12`` level of precision)."
   ],
   "metadata": {}
  },
  {
   "cell_type": "code",
   "execution_count": null,
   "source": [
    "# STEP 5: Report comparison in manual vs. numerical fixed point solutions\n",
    "\n",
    "# ... your code below ....\n",
    "\n"
   ],
   "outputs": [],
   "metadata": {}
  },
  {
   "cell_type": "markdown",
   "source": [
    "**Question 3.** Recall that in the previous question, we defined an arbitrarily large upper bound ``k_max`` on the set of possible $k$s in order to numerically search for the fixed-point solution $k$?\n",
    "\n",
    "This may not be all that elegant. What if parameters change in your model. Say, instead of $z=1$, now, $z=10,000$? \n",
    "\n",
    "Stare are the model again. Can you define, using the model equilibrium condition, a model-consistent or \"natural\" upper bound on $k$? That is, regardless of any value of an initial state $k_{0}$ can you define the set of all possible outcomes for $k_{t}$?"
   ],
   "metadata": {}
  },
  {
   "cell_type": "markdown",
   "source": [
    "**Answer 3.** ``Your answer here ...``\n",
    "\n",
    "\n"
   ],
   "metadata": {}
  },
  {
   "cell_type": "markdown",
   "source": [
    "**Question 4.**\n",
    "\n",
    "In this model, consumption each period is $c_{t}=(1-s)y_{t}$ where $y_{t} = f(k_{t})$. \n",
    "\n",
    "Consider an initial state, given by $k_{0} = 0.02$.\n",
    "\n",
    "Make use of \n",
    "\n",
    "* the ``for`` loop iteration construct,\n",
    "\n",
    "* ``list`` or NumPy ``array`` data types and related attributes, and,\n",
    "\n",
    "* ``dict`` \n",
    "\n",
    "to code up your own function for simulating the dynamic equilibrium paths of per-worker *capital*, *output* and *consumption*.\n",
    "\n",
    "Set your function to return a convenient ``dict`` object that can be easily accessed for experiments and for plotting later!"
   ],
   "metadata": {}
  },
  {
   "cell_type": "markdown",
   "source": [
    "**Answer 4.**"
   ],
   "metadata": {}
  },
  {
   "cell_type": "code",
   "execution_count": null,
   "source": [
    "# Your code below ..."
   ],
   "outputs": [],
   "metadata": {}
  },
  {
   "cell_type": "markdown",
   "source": [
    "**Question 5.**\n",
    "\n",
    "Visualize your results from the last question. Plot the following:\n",
    "\n",
    "1. The time paths of $k_{t}$, $y_{t}$ and $c_{t}$.\n",
    "\n",
    "2. A phase diagram in $(k_{t}, k_{t+1})$ space. Include the graphs of $g$ and the set $\\{{(k_{t},k_{t+1}): k_{t}=k_{t+1}}\\}$. Then plot the time path of $k_{t}$ in this diagram.\n"
   ],
   "metadata": {}
  },
  {
   "cell_type": "markdown",
   "source": [
    "**Answer 5.**"
   ],
   "metadata": {}
  },
  {
   "cell_type": "code",
   "execution_count": null,
   "source": [
    "# Your code here ..."
   ],
   "outputs": [],
   "metadata": {}
  }
 ],
 "metadata": {
  "kernelspec": {
   "name": "python3",
   "display_name": "Python 3.7.4 64-bit ('anaconda3': virtualenv)"
  },
  "language_info": {
   "codemirror_mode": {
    "name": "ipython",
    "version": 3
   },
   "file_extension": ".py",
   "mimetype": "text/x-python",
   "name": "python",
   "nbconvert_exporter": "python",
   "pygments_lexer": "ipython3",
   "version": "3.7.4"
  },
  "latex_envs": {
   "LaTeX_envs_menu_present": true,
   "autoclose": false,
   "autocomplete": true,
   "bibliofile": "biblio.bib",
   "cite_by": "apalike",
   "current_citInitial": 1,
   "eqLabelWithNumbers": true,
   "eqNumInitial": 1,
   "hotkeys": {
    "equation": "Ctrl-E",
    "itemize": "Ctrl-I"
   },
   "labels_anchors": false,
   "latex_user_defs": false,
   "report_style_numbering": false,
   "user_envs_cfg": false
  },
  "toc": {
   "base_numbering": 1,
   "nav_menu": {},
   "number_sections": true,
   "sideBar": false,
   "skip_h1_title": false,
   "title_cell": "Table of Contents",
   "title_sidebar": "Contents",
   "toc_cell": true,
   "toc_position": {
    "height": "638.182px",
    "left": "1047.27px",
    "top": "110.284px",
    "width": "261.818px"
   },
   "toc_section_display": false,
   "toc_window_display": true
  },
  "interpreter": {
   "hash": "99e3b8c1b16f2730d4d67f23e07cf6d2d2f0b0a606d6099a75a6361260e98536"
  }
 },
 "nbformat": 4,
 "nbformat_minor": 5
}