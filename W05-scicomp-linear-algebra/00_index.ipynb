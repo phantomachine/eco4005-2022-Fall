{
 "cells": [
  {
   "cell_type": "markdown",
   "metadata": {
    "toc": true
   },
   "source": [
    "<h1>Table of Contents<span class=\"tocSkip\"></span></h1>\n",
    "<div class=\"toc\"><ul class=\"toc-item\"><li><span><a href=\"#Scientific-Computing\" data-toc-modified-id=\"Scientific-Computing-1\"><span class=\"toc-item-num\">1&nbsp;&nbsp;</span>Scientific Computing</a></span><ul class=\"toc-item\"><li><span><a href=\"#Introduction-to-Numpy\" data-toc-modified-id=\"Introduction-to-Numpy-1.1\"><span class=\"toc-item-num\">1.1&nbsp;&nbsp;</span><a href=\"https://datascience.quantecon.org/numpy_arrays.html\" target=\"_blank\">Introduction to Numpy</a></a></span></li><li><span><a href=\"#Plotting\" data-toc-modified-id=\"Plotting-1.2\"><span class=\"toc-item-num\">1.2&nbsp;&nbsp;</span><a href=\"https://datascience.quantecon.org/plotting.html\" target=\"_blank\">Plotting</a></a></span></li><li><span><a href=\"#Applied-Linear-Algebra\" data-toc-modified-id=\"Applied-Linear-Algebra-1.3\"><span class=\"toc-item-num\">1.3&nbsp;&nbsp;</span><a href=\"https://datascience.quantecon.org/applied_linalg.html\" target=\"_blank\">Applied Linear Algebra</a></a></span></li><li><span><a href=\"#Randomness\" data-toc-modified-id=\"Randomness-1.4\"><span class=\"toc-item-num\">1.4&nbsp;&nbsp;</span><a href=\"https://datascience.quantecon.org/randomness.html\" target=\"_blank\">Randomness</a></a></span></li><li><span><a href=\"#Optimization\" data-toc-modified-id=\"Optimization-1.5\"><span class=\"toc-item-num\">1.5&nbsp;&nbsp;</span><a href=\"https://datascience.quantecon.org/optimization.html\" target=\"_blank\">Optimization</a></a></span></li></ul></li></ul></div>"
   ]
  },
  {
   "cell_type": "markdown",
   "metadata": {},
   "source": [
    "# Scientific Computing\n",
    "\n",
    "This section discusses several key aspects of scientific computing that enable modern economics, data science, and statistics.\n",
    "\n",
    "As the size of our data and the complexity of our models have increased (and continue doing so), we have become more reliant on computers to perform computations that we simply cannot do by hand.\n",
    "\n",
    "In this section, we will cover\n",
    "\n",
    "- Python’s main numerical library numpy and how to work with its array type.  \n",
    "- A basic introduction to visualizing data with matplotlib.  \n",
    "- A refresher on some key linear algebra concepts.  \n",
    "- A review of basic probability concepts and how to use simulation in learning economics.  \n",
    "- Using a computer to perform optimization.  \n",
    "\n",
    "\n",
    "Many of the tools learned in this section will continue to show up throughout the\n",
    "[pandas](https://datascience.quantecon.org/../pandas/index.html) and [applications](https://datascience.quantecon.org/../applications/index.html) sections.\n",
    "\n",
    "This section has more formal math than the previous material (and there will be more\n",
    "math as you cover certain methods).\n",
    "\n",
    "We expect that students’ mathematical backgrounds will range widely, so for those who have slightly less preparation, please don’t let this scare you.\n",
    "\n",
    "We have found that although understanding these tools will require some extra effort, it will give you a leg up in almost any career you might consider."
   ]
  },
  {
   "cell_type": "markdown",
   "metadata": {},
   "source": [
    "##  [Introduction to Numpy](https://datascience.quantecon.org/numpy_arrays.html)"
   ]
  },
  {
   "cell_type": "markdown",
   "metadata": {},
   "source": [
    "##  [Plotting](https://datascience.quantecon.org/plotting.html)"
   ]
  },
  {
   "cell_type": "markdown",
   "metadata": {},
   "source": [
    "##  [Applied Linear Algebra](https://datascience.quantecon.org/applied_linalg.html)"
   ]
  },
  {
   "cell_type": "markdown",
   "metadata": {},
   "source": [
    "##  [Randomness](https://datascience.quantecon.org/randomness.html)"
   ]
  },
  {
   "cell_type": "markdown",
   "metadata": {},
   "source": [
    "##  [Optimization](https://datascience.quantecon.org/optimization.html)"
   ]
  }
 ],
 "metadata": {
  "date": 1627429659.183028,
  "filename": "index.md",
  "kernelspec": {
   "display_name": "Python 3",
   "language": "python",
   "name": "python3"
  },
  "language_info": {
   "codemirror_mode": {
    "name": "ipython",
    "version": 3
   },
   "file_extension": ".py",
   "mimetype": "text/x-python",
   "name": "python",
   "nbconvert_exporter": "python",
   "pygments_lexer": "ipython3",
   "version": "3.7.4"
  },
  "latex_envs": {
   "LaTeX_envs_menu_present": true,
   "autoclose": false,
   "autocomplete": false,
   "bibliofile": "smolyak.bib",
   "cite_by": "apalike",
   "current_citInitial": 1,
   "eqLabelWithNumbers": true,
   "eqNumInitial": 1,
   "hotkeys": {
    "equation": "Ctrl-E",
    "itemize": "Ctrl-I"
   },
   "labels_anchors": false,
   "latex_user_defs": false,
   "report_style_numbering": true,
   "user_envs_cfg": true
  },
  "title": "Scientific Computing",
  "toc": {
   "base_numbering": 1,
   "nav_menu": {},
   "number_sections": true,
   "sideBar": true,
   "skip_h1_title": false,
   "title_cell": "Table of Contents",
   "title_sidebar": "Contents",
   "toc_cell": true,
   "toc_position": {},
   "toc_section_display": true,
   "toc_window_display": true
  }
 },
 "nbformat": 4,
 "nbformat_minor": 5
}
