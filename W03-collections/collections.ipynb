{
 "cells": [
  {
   "cell_type": "markdown",
   "source": [
    "<h1>Table of Contents<span class=\"tocSkip\"></span></h1>\n",
    "<div class=\"toc\"><ul class=\"toc-item\"><li><span><a href=\"#Collections\" data-toc-modified-id=\"Collections-1\"><span class=\"toc-item-num\">1&nbsp;&nbsp;</span>Collections</a></span><ul class=\"toc-item\"><li><span><a href=\"#Ordered-Collections\" data-toc-modified-id=\"Ordered-Collections-1.1\"><span class=\"toc-item-num\">1.1&nbsp;&nbsp;</span>Ordered Collections</a></span><ul class=\"toc-item\"><li><span><a href=\"#Lists\" data-toc-modified-id=\"Lists-1.1.1\"><span class=\"toc-item-num\">1.1.1&nbsp;&nbsp;</span>Lists</a></span><ul class=\"toc-item\"><li><span><a href=\"#What-Can-We-Do-with-Lists?\" data-toc-modified-id=\"What-Can-We-Do-with-Lists?-1.1.1.1\"><span class=\"toc-item-num\">1.1.1.1&nbsp;&nbsp;</span>What Can We Do with Lists?</a></span></li><li><span><a href=\"#Exercise\" data-toc-modified-id=\"Exercise-1.1.1.2\"><span class=\"toc-item-num\">1.1.1.2&nbsp;&nbsp;</span>Exercise</a></span></li></ul></li><li><span><a href=\"#Lists-of-Different-Types\" data-toc-modified-id=\"Lists-of-Different-Types-1.1.2\"><span class=\"toc-item-num\">1.1.2&nbsp;&nbsp;</span>Lists of Different Types</a></span></li><li><span><a href=\"#The-range-Function\" data-toc-modified-id=\"The-range-Function-1.1.3\"><span class=\"toc-item-num\">1.1.3&nbsp;&nbsp;</span>The <code>range</code> Function</a></span></li><li><span><a href=\"#Exercise\" data-toc-modified-id=\"Exercise-1.1.4\"><span class=\"toc-item-num\">1.1.4&nbsp;&nbsp;</span>Exercise</a></span></li><li><span><a href=\"#What-are-Tuples?\" data-toc-modified-id=\"What-are-Tuples?-1.1.5\"><span class=\"toc-item-num\">1.1.5&nbsp;&nbsp;</span>What are Tuples?</a></span></li><li><span><a href=\"#Exercise\" data-toc-modified-id=\"Exercise-1.1.6\"><span class=\"toc-item-num\">1.1.6&nbsp;&nbsp;</span>Exercise</a></span></li><li><span><a href=\"#List-vs-Tuple:-Which-to-Use?\" data-toc-modified-id=\"List-vs-Tuple:-Which-to-Use?-1.1.7\"><span class=\"toc-item-num\">1.1.7&nbsp;&nbsp;</span>List vs Tuple: Which to Use?</a></span></li><li><span><a href=\"#zip-and-enumerate\" data-toc-modified-id=\"zip-and-enumerate-1.1.8\"><span class=\"toc-item-num\">1.1.8&nbsp;&nbsp;</span><code>zip</code> and <code>enumerate</code></a></span></li><li><span><a href=\"#Exercise\" data-toc-modified-id=\"Exercise-1.1.9\"><span class=\"toc-item-num\">1.1.9&nbsp;&nbsp;</span>Exercise</a></span></li></ul></li><li><span><a href=\"#Associative-Collections\" data-toc-modified-id=\"Associative-Collections-1.2\"><span class=\"toc-item-num\">1.2&nbsp;&nbsp;</span>Associative Collections</a></span><ul class=\"toc-item\"><li><span><a href=\"#Dictionaries\" data-toc-modified-id=\"Dictionaries-1.2.1\"><span class=\"toc-item-num\">1.2.1&nbsp;&nbsp;</span>Dictionaries</a></span></li><li><span><a href=\"#Exercise\" data-toc-modified-id=\"Exercise-1.2.2\"><span class=\"toc-item-num\">1.2.2&nbsp;&nbsp;</span>Exercise</a></span><ul class=\"toc-item\"><li><span><a href=\"#Getting,-Setting,-and-Updating-dict-Items\" data-toc-modified-id=\"Getting,-Setting,-and-Updating-dict-Items-1.2.2.1\"><span class=\"toc-item-num\">1.2.2.1&nbsp;&nbsp;</span>Getting, Setting, and Updating dict Items</a></span></li><li><span><a href=\"#Exercise\" data-toc-modified-id=\"Exercise-1.2.2.2\"><span class=\"toc-item-num\">1.2.2.2&nbsp;&nbsp;</span>Exercise</a></span></li><li><span><a href=\"#Common-dict-Functionality\" data-toc-modified-id=\"Common-dict-Functionality-1.2.2.3\"><span class=\"toc-item-num\">1.2.2.3&nbsp;&nbsp;</span>Common <code>dict</code> Functionality</a></span></li><li><span><a href=\"#Exercise\" data-toc-modified-id=\"Exercise-1.2.2.4\"><span class=\"toc-item-num\">1.2.2.4&nbsp;&nbsp;</span>Exercise</a></span></li><li><span><a href=\"#Exercise\" data-toc-modified-id=\"Exercise-1.2.2.5\"><span class=\"toc-item-num\">1.2.2.5&nbsp;&nbsp;</span>Exercise</a></span></li></ul></li><li><span><a href=\"#Sets-(Optional)\" data-toc-modified-id=\"Sets-(Optional)-1.2.3\"><span class=\"toc-item-num\">1.2.3&nbsp;&nbsp;</span>Sets (Optional)</a></span></li><li><span><a href=\"#Exercise\" data-toc-modified-id=\"Exercise-1.2.4\"><span class=\"toc-item-num\">1.2.4&nbsp;&nbsp;</span>Exercise</a></span></li><li><span><a href=\"#Exercise\" data-toc-modified-id=\"Exercise-1.2.5\"><span class=\"toc-item-num\">1.2.5&nbsp;&nbsp;</span>Exercise</a></span></li></ul></li><li><span><a href=\"#Exercises\" data-toc-modified-id=\"Exercises-1.3\"><span class=\"toc-item-num\">1.3&nbsp;&nbsp;</span>Exercises</a></span><ul class=\"toc-item\"><li><span><a href=\"#Exercise-1\" data-toc-modified-id=\"Exercise-1-1.3.1\"><span class=\"toc-item-num\">1.3.1&nbsp;&nbsp;</span>Exercise 1</a></span></li><li><span><a href=\"#Exercise-2\" data-toc-modified-id=\"Exercise-2-1.3.2\"><span class=\"toc-item-num\">1.3.2&nbsp;&nbsp;</span>Exercise 2</a></span></li><li><span><a href=\"#Exercise-3\" data-toc-modified-id=\"Exercise-3-1.3.3\"><span class=\"toc-item-num\">1.3.3&nbsp;&nbsp;</span>Exercise 3</a></span></li><li><span><a href=\"#Exercise-4\" data-toc-modified-id=\"Exercise-4-1.3.4\"><span class=\"toc-item-num\">1.3.4&nbsp;&nbsp;</span>Exercise 4</a></span></li><li><span><a href=\"#Exercise-5\" data-toc-modified-id=\"Exercise-5-1.3.5\"><span class=\"toc-item-num\">1.3.5&nbsp;&nbsp;</span>Exercise 5</a></span></li><li><span><a href=\"#Exercise-6\" data-toc-modified-id=\"Exercise-6-1.3.6\"><span class=\"toc-item-num\">1.3.6&nbsp;&nbsp;</span>Exercise 6</a></span></li><li><span><a href=\"#Exercise-7\" data-toc-modified-id=\"Exercise-7-1.3.7\"><span class=\"toc-item-num\">1.3.7&nbsp;&nbsp;</span>Exercise 7</a></span></li><li><span><a href=\"#Exercise-8\" data-toc-modified-id=\"Exercise-8-1.3.8\"><span class=\"toc-item-num\">1.3.8&nbsp;&nbsp;</span>Exercise 8</a></span></li><li><span><a href=\"#Exercise-9\" data-toc-modified-id=\"Exercise-9-1.3.9\"><span class=\"toc-item-num\">1.3.9&nbsp;&nbsp;</span>Exercise 9</a></span></li><li><span><a href=\"#Exercise-10\" data-toc-modified-id=\"Exercise-10-1.3.10\"><span class=\"toc-item-num\">1.3.10&nbsp;&nbsp;</span>Exercise 10</a></span></li></ul></li></ul></li></ul></div>"
   ],
   "metadata": {
    "toc": true
   }
  },
  {
   "cell_type": "markdown",
   "source": [
    "# Collections\n",
    "\n",
    "**Prerequisites**\n",
    "\n",
    "- [Core data types](https://datascience.quantecon.org/basics.html)  \n",
    "\n",
    "\n",
    "**Outcomes**\n",
    "\n",
    "- Ordered Collections  \n",
    "  - Know what a list is and a tuple is  \n",
    "  - Know how to tell a list from a tuple  \n",
    "  - Understand the `range`, `zip` and `enumerate` functions  \n",
    "  - Be able to use common list methods like `append`, `sort`,\n",
    "    and `reverse`  \n",
    "- Associative Collections  \n",
    "  - Understand what a `dict` is  \n",
    "  - Know the distinction between a dicts keys and values  \n",
    "  - Understand when `dict`s are useful  \n",
    "  - Be familiar with common `dict` methods  \n",
    "- Sets  (optional)  \n",
    "  - Know what a set is  \n",
    "  - Understand how a set differs from a list and a tuple  \n",
    "  - Know when to use a set vs a list or a tuple  "
   ],
   "metadata": {}
  },
  {
   "cell_type": "markdown",
   "source": [
    "## Ordered Collections"
   ],
   "metadata": {}
  },
  {
   "cell_type": "markdown",
   "source": [
    "### Lists\n",
    "\n",
    "A Python list is an ordered collection of items.\n",
    "\n",
    "We can create lists using the following syntax"
   ],
   "metadata": {}
  },
  {
   "cell_type": "code",
   "execution_count": null,
   "source": [
    "[item1, item2, ...,  itemN]"
   ],
   "outputs": [],
   "metadata": {
    "hide-output": false
   }
  },
  {
   "cell_type": "markdown",
   "source": [
    "where the `...` represents any number of additional items.\n",
    "\n",
    "Each item can be of any type.\n",
    "\n",
    "Let’s create some lists."
   ],
   "metadata": {}
  },
  {
   "cell_type": "code",
   "execution_count": 1,
   "source": [
    "# created, but not assigned to a variable\n",
    "[2.0, 9.1, 12.5]"
   ],
   "outputs": [
    {
     "output_type": "execute_result",
     "data": {
      "text/plain": [
       "[2.0, 9.1, 12.5]"
      ]
     },
     "metadata": {},
     "execution_count": 1
    }
   ],
   "metadata": {
    "hide-output": false
   }
  },
  {
   "cell_type": "code",
   "execution_count": 2,
   "source": [
    "# stored as the variable `x`\n",
    "x = [2.0, 9.1, 12.5]\n",
    "print(\"x has type\", type(x))\n",
    "x"
   ],
   "outputs": [
    {
     "output_type": "stream",
     "name": "stdout",
     "text": [
      "x has type <class 'list'>\n"
     ]
    },
    {
     "output_type": "execute_result",
     "data": {
      "text/plain": [
       "[2.0, 9.1, 12.5]"
      ]
     },
     "metadata": {},
     "execution_count": 2
    }
   ],
   "metadata": {
    "hide-output": false
   }
  },
  {
   "cell_type": "markdown",
   "source": [
    "#### What Can We Do with Lists?\n",
    "\n",
    "We can access items in a list called `mylist` using `mylist[N]`\n",
    "where `N` is an integer.\n",
    "\n",
    "Note: Anytime that we use the syntax `x[i]` we are doing what is\n",
    "called indexing – it means that we are selecting a particular element\n",
    "of a *collection* `x`."
   ],
   "metadata": {}
  },
  {
   "cell_type": "code",
   "execution_count": 3,
   "source": [
    "x[1]"
   ],
   "outputs": [
    {
     "output_type": "execute_result",
     "data": {
      "text/plain": [
       "9.1"
      ]
     },
     "metadata": {},
     "execution_count": 3
    }
   ],
   "metadata": {
    "hide-output": false
   }
  },
  {
   "cell_type": "markdown",
   "source": [
    "Wait? Why did `x[1]` return `9.1` when the first element in x is\n",
    "actually `2.0`?\n",
    "\n",
    "This happened because Python starts counting at zero!\n",
    "\n",
    "Lets repeat that one more time for emphasis **Python starts counting at zero**!\n",
    "\n",
    "To access the first element of x we must use `x[0]`:"
   ],
   "metadata": {}
  },
  {
   "cell_type": "code",
   "execution_count": 4,
   "source": [
    "x[0]"
   ],
   "outputs": [
    {
     "output_type": "execute_result",
     "data": {
      "text/plain": [
       "2.0"
      ]
     },
     "metadata": {},
     "execution_count": 4
    }
   ],
   "metadata": {
    "hide-output": false
   }
  },
  {
   "cell_type": "markdown",
   "source": [
    "We can also determine how many items are in a list using the `len` function."
   ],
   "metadata": {}
  },
  {
   "cell_type": "code",
   "execution_count": 5,
   "source": [
    "len(x)"
   ],
   "outputs": [
    {
     "output_type": "execute_result",
     "data": {
      "text/plain": [
       "3"
      ]
     },
     "metadata": {},
     "execution_count": 5
    }
   ],
   "metadata": {
    "hide-output": false
   }
  },
  {
   "cell_type": "markdown",
   "source": [
    "What happens if we try to index with a number higher than the number of\n",
    "items in a list?"
   ],
   "metadata": {}
  },
  {
   "cell_type": "code",
   "execution_count": 8,
   "source": [
    "# uncomment the line below and run\n",
    "# x[4]"
   ],
   "outputs": [
    {
     "output_type": "execute_result",
     "data": {
      "text/plain": [
       "12.5"
      ]
     },
     "metadata": {},
     "execution_count": 8
    }
   ],
   "metadata": {
    "hide-output": false
   }
  },
  {
   "cell_type": "markdown",
   "source": [
    "We can check if a list contains an element using the `in` keyword."
   ],
   "metadata": {}
  },
  {
   "cell_type": "code",
   "execution_count": 9,
   "source": [
    "2.0 in x"
   ],
   "outputs": [
    {
     "output_type": "execute_result",
     "data": {
      "text/plain": [
       "True"
      ]
     },
     "metadata": {},
     "execution_count": 9
    }
   ],
   "metadata": {
    "hide-output": false
   }
  },
  {
   "cell_type": "code",
   "execution_count": 10,
   "source": [
    "1.5 in x"
   ],
   "outputs": [
    {
     "output_type": "execute_result",
     "data": {
      "text/plain": [
       "False"
      ]
     },
     "metadata": {},
     "execution_count": 10
    }
   ],
   "metadata": {
    "hide-output": false
   }
  },
  {
   "cell_type": "markdown",
   "source": [
    "For our list `x`, other common operations we might want to do are…"
   ],
   "metadata": {}
  },
  {
   "cell_type": "code",
   "execution_count": 11,
   "source": [
    "x.reverse()\n",
    "x"
   ],
   "outputs": [
    {
     "output_type": "execute_result",
     "data": {
      "text/plain": [
       "[12.5, 9.1, 2.0]"
      ]
     },
     "metadata": {},
     "execution_count": 11
    }
   ],
   "metadata": {
    "hide-output": false
   }
  },
  {
   "cell_type": "code",
   "execution_count": 12,
   "source": [
    "number_list = [10, 25, 42, 1.0]\n",
    "print(number_list)\n",
    "number_list.sort()\n",
    "print(number_list)"
   ],
   "outputs": [
    {
     "output_type": "stream",
     "name": "stdout",
     "text": [
      "[10, 25, 42, 1.0]\n",
      "[1.0, 10, 25, 42]\n"
     ]
    }
   ],
   "metadata": {
    "hide-output": false
   }
  },
  {
   "cell_type": "markdown",
   "source": [
    "Note that in order to `sort`, we had to have all elements in our list\n",
    "be numbers (`int` and `float`), more on this [below](#inhomogenous-lists).\n",
    "\n",
    "We could actually do the same with a list of strings. In this case, `sort`\n",
    "will put the items in alphabetical order."
   ],
   "metadata": {}
  },
  {
   "cell_type": "code",
   "execution_count": 13,
   "source": [
    "str_list = [\"NY\", \"AZ\", \"TX\"]\n",
    "print(str_list)\n",
    "str_list.sort()\n",
    "print(str_list)"
   ],
   "outputs": [
    {
     "output_type": "stream",
     "name": "stdout",
     "text": [
      "['NY', 'AZ', 'TX']\n",
      "['AZ', 'NY', 'TX']\n"
     ]
    }
   ],
   "metadata": {
    "hide-output": false
   }
  },
  {
   "cell_type": "markdown",
   "source": [
    "The `append` method adds an element to the end of existing list."
   ],
   "metadata": {}
  },
  {
   "cell_type": "code",
   "execution_count": 14,
   "source": [
    "num_list = [10, 25, 42, 8]\n",
    "print(num_list)\n",
    "num_list.append(10)\n",
    "print(num_list)"
   ],
   "outputs": [
    {
     "output_type": "stream",
     "name": "stdout",
     "text": [
      "[10, 25, 42, 8]\n",
      "[10, 25, 42, 8, 10]\n"
     ]
    }
   ],
   "metadata": {
    "hide-output": false
   }
  },
  {
   "cell_type": "markdown",
   "source": [
    "However, if you call `append` with a list, it adds a `list` to the end,\n",
    "rather than the numbers in that list."
   ],
   "metadata": {}
  },
  {
   "cell_type": "code",
   "execution_count": 15,
   "source": [
    "num_list = [10, 25, 42, 8]\n",
    "print(num_list)\n",
    "num_list.append([20, 4])\n",
    "print(num_list)"
   ],
   "outputs": [
    {
     "output_type": "stream",
     "name": "stdout",
     "text": [
      "[10, 25, 42, 8]\n",
      "[10, 25, 42, 8, [20, 4]]\n"
     ]
    }
   ],
   "metadata": {
    "hide-output": false
   }
  },
  {
   "cell_type": "markdown",
   "source": [
    "To combine the lists instead…"
   ],
   "metadata": {}
  },
  {
   "cell_type": "code",
   "execution_count": 16,
   "source": [
    "num_list = [10, 25, 42, 8]\n",
    "print(num_list)\n",
    "num_list.extend([20, 4])\n",
    "print(num_list)"
   ],
   "outputs": [
    {
     "output_type": "stream",
     "name": "stdout",
     "text": [
      "[10, 25, 42, 8]\n",
      "[10, 25, 42, 8, 20, 4]\n"
     ]
    }
   ],
   "metadata": {
    "hide-output": false
   }
  },
  {
   "cell_type": "markdown",
   "source": [
    "#### Exercise\n",
    "\n",
    "See exercise 1 in the [exercise list](#ex2-2).\n",
    "\n",
    "\n",
    "<a id='inhomogenous-lists'></a>"
   ],
   "metadata": {}
  },
  {
   "cell_type": "markdown",
   "source": [
    "### Lists of Different Types\n",
    "\n",
    "While most examples above have all used a `list` with\n",
    "a single type of variable, this is not required.\n",
    "\n",
    "Let’s carefully make a small change to the first example: replace `2.0` with `2`"
   ],
   "metadata": {}
  },
  {
   "cell_type": "code",
   "execution_count": null,
   "source": [
    "x = [2, 9.1, 12.5]"
   ],
   "outputs": [],
   "metadata": {
    "hide-output": false
   }
  },
  {
   "cell_type": "markdown",
   "source": [
    "This behavior is identical for many operations you might\n",
    "apply to a list."
   ],
   "metadata": {}
  },
  {
   "cell_type": "code",
   "execution_count": 17,
   "source": [
    "import numpy as np\n",
    "x = [2, 9.1, 12.5]\n",
    "np.mean(x) == sum(x)/len(x)"
   ],
   "outputs": [
    {
     "output_type": "execute_result",
     "data": {
      "text/plain": [
       "True"
      ]
     },
     "metadata": {},
     "execution_count": 17
    }
   ],
   "metadata": {
    "hide-output": false
   }
  },
  {
   "cell_type": "markdown",
   "source": [
    "Here we have also introduced a new [module](https://datascience.quantecon.org/basics.html#modules),\n",
    "[Numpy](https://datascience.quantecon.org/../scientific/index.html), which provides many functions\n",
    "for working with numeric data.\n",
    "\n",
    "Taking this further, we can put completely different types of elements\n",
    "inside of a list."
   ],
   "metadata": {}
  },
  {
   "cell_type": "code",
   "execution_count": 18,
   "source": [
    "# stored as the variable `x`\n",
    "x = [2, \"hello\", 3.0]\n",
    "print(\"x has type\", type(x))\n",
    "x"
   ],
   "outputs": [
    {
     "output_type": "stream",
     "name": "stdout",
     "text": [
      "x has type <class 'list'>\n"
     ]
    },
    {
     "output_type": "execute_result",
     "data": {
      "text/plain": [
       "[2, 'hello', 3.0]"
      ]
     },
     "metadata": {},
     "execution_count": 18
    }
   ],
   "metadata": {
    "hide-output": false
   }
  },
  {
   "cell_type": "markdown",
   "source": [
    "To see the types of individual elements in the list:"
   ],
   "metadata": {}
  },
  {
   "cell_type": "code",
   "execution_count": 20,
   "source": [
    "print(f\"type(x[0]) = {type(x[0])}, type(x[1]) = {type(x[1])}, type(x[2]) = {type(x[2])}\")"
   ],
   "outputs": [
    {
     "output_type": "stream",
     "name": "stdout",
     "text": [
      "type(x[0]) = <class 'int'>, type(x[1]) = <class 'str'>, type(x[2]) = <class 'float'>\n"
     ]
    }
   ],
   "metadata": {
    "hide-output": false
   }
  },
  {
   "cell_type": "markdown",
   "source": [
    "While no programming limitations prevent this, you should be careful if you write code\n",
    "with different numeric and non-numeric types in the same list.\n",
    "\n",
    "For example, if the types within the list cannot be compared, then how could you sort the elements of the list? (i.e. How do you determine whether the string “hello” is less than the integer 2, “hello” < 2?)"
   ],
   "metadata": {}
  },
  {
   "cell_type": "code",
   "execution_count": null,
   "source": [
    "x = [2, \"hello\", 3.0]\n",
    "# uncomment the line below and see what happens!\n",
    "# x.sort()"
   ],
   "outputs": [],
   "metadata": {
    "hide-output": false
   }
  },
  {
   "cell_type": "markdown",
   "source": [
    "A few key exceptions to this general rule are:\n",
    "\n",
    "- Lists with both integers and floating points are less error-prone\n",
    "  (since mathematical code using the list would work with both types).  \n",
    "- When working with lists and data, you may want to represent missing\n",
    "  values with a different type than the existing values.  "
   ],
   "metadata": {}
  },
  {
   "cell_type": "markdown",
   "source": [
    "### The `range` Function\n",
    "\n",
    "One function you will see often in Python is the `range` function.\n",
    "\n",
    "It has three versions:\n",
    "\n",
    "1. `range(N)`: goes from 0 to N-1  \n",
    "1. `range(a, N)`: goes from a to N-1  \n",
    "1. `range(a, N, d)`: goes from a to N-1, counting by d  \n",
    "\n",
    "\n",
    "When we call the `range` function, we get back something that has type `range`:"
   ],
   "metadata": {}
  },
  {
   "cell_type": "code",
   "execution_count": 21,
   "source": [
    "r = range(5)\n",
    "print(\"type(r)\", type(r))"
   ],
   "outputs": [
    {
     "output_type": "stream",
     "name": "stdout",
     "text": [
      "type(r) <class 'range'>\n"
     ]
    }
   ],
   "metadata": {
    "hide-output": false
   }
  },
  {
   "cell_type": "markdown",
   "source": [
    "To turn the `range` into a list:"
   ],
   "metadata": {}
  },
  {
   "cell_type": "code",
   "execution_count": 22,
   "source": [
    "list(r)"
   ],
   "outputs": [
    {
     "output_type": "execute_result",
     "data": {
      "text/plain": [
       "[0, 1, 2, 3, 4]"
      ]
     },
     "metadata": {},
     "execution_count": 22
    }
   ],
   "metadata": {
    "hide-output": false
   }
  },
  {
   "cell_type": "markdown",
   "source": [
    "### Exercise\n",
    "\n",
    "See exercise 2 in the [exercise list](#ex2-2)."
   ],
   "metadata": {}
  },
  {
   "cell_type": "markdown",
   "source": [
    "### What are Tuples?\n",
    "\n",
    "Tuples are very similar to lists and hold ordered collections of items.\n",
    "\n",
    "However, tuples and lists have three main differences:\n",
    "\n",
    "1. Tuples are created using parenthesis — `(` and `)` — instead of\n",
    "  square brackets — `[` and `]`.  \n",
    "1. Tuples are *immutable*, which is a fancy computer science word\n",
    "  meaning that they can’t be changed or altered after they are created.  \n",
    "1. Tuples and multiple return values\n",
    "  from functions are tightly connected, as we will see in [functions](https://datascience.quantecon.org/functions.html).  "
   ],
   "metadata": {}
  },
  {
   "cell_type": "code",
   "execution_count": 23,
   "source": [
    "t = (1, \"hello\", 3.0)\n",
    "print(\"t is a\", type(t))\n",
    "t"
   ],
   "outputs": [
    {
     "output_type": "stream",
     "name": "stdout",
     "text": [
      "t is a <class 'tuple'>\n"
     ]
    },
    {
     "output_type": "execute_result",
     "data": {
      "text/plain": [
       "(1, 'hello', 3.0)"
      ]
     },
     "metadata": {},
     "execution_count": 23
    }
   ],
   "metadata": {
    "hide-output": false
   }
  },
  {
   "cell_type": "markdown",
   "source": [
    "We can *convert* a list to a tuple by calling the `tuple` function on\n",
    "a list."
   ],
   "metadata": {}
  },
  {
   "cell_type": "code",
   "execution_count": 24,
   "source": [
    "print(\"x is a\", type(x))\n",
    "print(\"tuple(x) is a\", type(tuple(x)))\n",
    "tuple(x)"
   ],
   "outputs": [
    {
     "output_type": "stream",
     "name": "stdout",
     "text": [
      "x is a <class 'list'>\n",
      "tuple(x) is a <class 'tuple'>\n"
     ]
    },
    {
     "output_type": "execute_result",
     "data": {
      "text/plain": [
       "(2, 'hello', 3.0)"
      ]
     },
     "metadata": {},
     "execution_count": 24
    }
   ],
   "metadata": {
    "hide-output": false
   }
  },
  {
   "cell_type": "markdown",
   "source": [
    "We can also convert a tuple to a list using the list function."
   ],
   "metadata": {}
  },
  {
   "cell_type": "code",
   "execution_count": 25,
   "source": [
    "list(t)"
   ],
   "outputs": [
    {
     "output_type": "execute_result",
     "data": {
      "text/plain": [
       "[1, 'hello', 3.0]"
      ]
     },
     "metadata": {},
     "execution_count": 25
    }
   ],
   "metadata": {
    "hide-output": false
   }
  },
  {
   "cell_type": "markdown",
   "source": [
    "As with a list, we access items in a tuple `t` using `t[N]` where\n",
    "`N` is an int."
   ],
   "metadata": {}
  },
  {
   "cell_type": "code",
   "execution_count": 26,
   "source": [
    "t[0]  # still start counting at 0"
   ],
   "outputs": [
    {
     "output_type": "execute_result",
     "data": {
      "text/plain": [
       "1"
      ]
     },
     "metadata": {},
     "execution_count": 26
    }
   ],
   "metadata": {
    "hide-output": false
   }
  },
  {
   "cell_type": "code",
   "execution_count": 27,
   "source": [
    "t[2]"
   ],
   "outputs": [
    {
     "output_type": "execute_result",
     "data": {
      "text/plain": [
       "3.0"
      ]
     },
     "metadata": {},
     "execution_count": 27
    }
   ],
   "metadata": {
    "hide-output": false
   }
  },
  {
   "cell_type": "markdown",
   "source": [
    "### Exercise\n",
    "\n",
    "See exercise 3 in the [exercise list](#ex2-2).\n",
    "\n",
    "Tuples (and lists) can be unpacked directly into variables."
   ],
   "metadata": {}
  },
  {
   "cell_type": "code",
   "execution_count": 28,
   "source": [
    "x, y = (1, \"test\")\n",
    "print(f\"x = {x}, y = {y}\")"
   ],
   "outputs": [
    {
     "output_type": "stream",
     "name": "stdout",
     "text": [
      "x = 1, y = test\n"
     ]
    }
   ],
   "metadata": {
    "hide-output": false
   }
  },
  {
   "cell_type": "markdown",
   "source": [
    "This will be a convenient way to work with functions returning\n",
    "multiple values, as well as within [comprehensions and loops](https://datascience.quantecon.org/control_flow.html)."
   ],
   "metadata": {}
  },
  {
   "cell_type": "markdown",
   "source": [
    "### List vs Tuple: Which to Use?\n",
    "\n",
    "Should you use a list or tuple?\n",
    "\n",
    "This depends on what you are storing, whether you might need to reorder the elements,\n",
    "or whether you’d add\n",
    "new elements without a complete reinterpretation of the\n",
    "underlying data.\n",
    "\n",
    "For example, take data representing the GDP (in trillions) and population\n",
    "(in billions) for China in 2015."
   ],
   "metadata": {}
  },
  {
   "cell_type": "code",
   "execution_count": 29,
   "source": [
    "china_data_2015 = (\"China\", 2015, 11.06, 1.371)\n",
    "\n",
    "print(china_data_2015)"
   ],
   "outputs": [
    {
     "output_type": "stream",
     "name": "stdout",
     "text": [
      "('China', 2015, 11.06, 1.371)\n"
     ]
    }
   ],
   "metadata": {
    "hide-output": false
   }
  },
  {
   "cell_type": "markdown",
   "source": [
    "In this case, we have used a tuple since: (a) ordering would\n",
    "be meaningless; and (b) adding more data would require a\n",
    "reinterpretation of the whole data structure.\n",
    "\n",
    "On the other hand, consider a list of GDP in China between\n",
    "2013 and 2015."
   ],
   "metadata": {}
  },
  {
   "cell_type": "code",
   "execution_count": 30,
   "source": [
    "gdp_data = [9.607, 10.48, 11.06]\n",
    "print(gdp_data)"
   ],
   "outputs": [
    {
     "output_type": "stream",
     "name": "stdout",
     "text": [
      "[9.607, 10.48, 11.06]\n"
     ]
    }
   ],
   "metadata": {
    "hide-output": false
   }
  },
  {
   "cell_type": "markdown",
   "source": [
    "In this case, we have used a list, since adding on a new\n",
    "element to the end of the list for GDP in 2016 would make\n",
    "complete sense.\n",
    "\n",
    "Along these lines, collecting data on China for different\n",
    "years may make sense as a list of tuples (e.g. year, GDP,\n",
    "and population – although we will see better ways to store this sort of data\n",
    "in the [Pandas](https://datascience.quantecon.org/../pandas/index.html) section)."
   ],
   "metadata": {}
  },
  {
   "cell_type": "code",
   "execution_count": 31,
   "source": [
    "china_data = [(2015, 11.06, 1.371), (2014, 10.48, 1.364), (2013, 9.607, 1.357)]\n",
    "print(china_data)"
   ],
   "outputs": [
    {
     "output_type": "stream",
     "name": "stdout",
     "text": [
      "[(2015, 11.06, 1.371), (2014, 10.48, 1.364), (2013, 9.607, 1.357)]\n"
     ]
    }
   ],
   "metadata": {
    "hide-output": false
   }
  },
  {
   "cell_type": "markdown",
   "source": [
    "In general, a rule of thumb is to use a list unless you *need* to use a tuple.\n",
    "\n",
    "Key criteria for tuple use are when you want to:\n",
    "\n",
    "- ensure the *order* of elements can’t change  \n",
    "- ensure the actual values of the elements can’t\n",
    "  change  \n",
    "- use the collection as a key in a dict (we will learn what this\n",
    "  means [soon](#dictionaries))  "
   ],
   "metadata": {}
  },
  {
   "cell_type": "markdown",
   "source": [
    "### `zip` and `enumerate`\n",
    "\n",
    "Two functions that can be extremely useful are `zip` and `enumerate`.\n",
    "\n",
    "Both of these functions are best understood by example, so let’s see\n",
    "them in action and then talk about what they do."
   ],
   "metadata": {}
  },
  {
   "cell_type": "code",
   "execution_count": 32,
   "source": [
    "gdp_data = [9.607, 10.48, 11.06]\n",
    "years = [2013, 2014, 2015]\n",
    "z = zip(years, gdp_data)\n",
    "print(\"type(z)\", type(z))"
   ],
   "outputs": [
    {
     "output_type": "stream",
     "name": "stdout",
     "text": [
      "type(z) <class 'zip'>\n"
     ]
    }
   ],
   "metadata": {
    "hide-output": false
   }
  },
  {
   "cell_type": "markdown",
   "source": [
    "To see what is inside `z`, let’s convert it to a list."
   ],
   "metadata": {}
  },
  {
   "cell_type": "code",
   "execution_count": 33,
   "source": [
    "list(z)"
   ],
   "outputs": [
    {
     "output_type": "execute_result",
     "data": {
      "text/plain": [
       "[(2013, 9.607), (2014, 10.48), (2015, 11.06)]"
      ]
     },
     "metadata": {},
     "execution_count": 33
    }
   ],
   "metadata": {
    "hide-output": false
   }
  },
  {
   "cell_type": "markdown",
   "source": [
    "Notice that we now have a list where each item is a tuple.\n",
    "\n",
    "Within each tuple, we have one item from each of the collections we\n",
    "passed to the zip function.\n",
    "\n",
    "In particular, the first item in `z` contains the first item from\n",
    "`[2013, 2014, 2015]` and the first item from `[9.607, 10.48, 11.06]`.\n",
    "\n",
    "The second item in `z` contains the second item from each collection\n",
    "and so on.\n",
    "\n",
    "We can access an element in this and then unpack the resulting\n",
    "tuple directly into variables."
   ],
   "metadata": {}
  },
  {
   "cell_type": "code",
   "execution_count": 34,
   "source": [
    "l = list(zip(years, gdp_data))\n",
    "x, y = l[0]\n",
    "print(f\"year = {x}, GDP = {y}\")"
   ],
   "outputs": [
    {
     "output_type": "stream",
     "name": "stdout",
     "text": [
      "year = 2013, GDP = 9.607\n"
     ]
    }
   ],
   "metadata": {
    "hide-output": false
   }
  },
  {
   "cell_type": "markdown",
   "source": [
    "Now let’s experiment with `enumerate`."
   ],
   "metadata": {}
  },
  {
   "cell_type": "code",
   "execution_count": 35,
   "source": [
    "e = enumerate([\"a\", \"b\", \"c\"])\n",
    "print(\"type(e)\", type(e))\n",
    "e"
   ],
   "outputs": [
    {
     "output_type": "stream",
     "name": "stdout",
     "text": [
      "type(e) <class 'enumerate'>\n"
     ]
    },
    {
     "output_type": "execute_result",
     "data": {
      "text/plain": [
       "<enumerate at 0x7f9b5e672e60>"
      ]
     },
     "metadata": {},
     "execution_count": 35
    }
   ],
   "metadata": {
    "hide-output": false
   }
  },
  {
   "cell_type": "markdown",
   "source": [
    "Again, we call `list(e)` to see what is inside."
   ],
   "metadata": {}
  },
  {
   "cell_type": "code",
   "execution_count": 36,
   "source": [
    "list(e)"
   ],
   "outputs": [
    {
     "output_type": "execute_result",
     "data": {
      "text/plain": [
       "[(0, 'a'), (1, 'b'), (2, 'c')]"
      ]
     },
     "metadata": {},
     "execution_count": 36
    }
   ],
   "metadata": {
    "hide-output": false
   }
  },
  {
   "cell_type": "markdown",
   "source": [
    "We again have a list of tuples, but this time, the first element in each\n",
    "tuple is the *index* of the second tuple element in the initial\n",
    "collection.\n",
    "\n",
    "Notice that the third item is `(2, 'c')` because\n",
    "`[\"a\", \"b\", \"c\"][2]` is `'c'`"
   ],
   "metadata": {}
  },
  {
   "cell_type": "markdown",
   "source": [
    "### Exercise\n",
    "\n",
    "See exercise 4 in the [exercise list](#ex2-2).\n",
    "\n",
    "An important quirk of some iterable types that are not lists (such as the above `zip`) is that\n",
    "you cannot convert the same type to a list twice.\n",
    "\n",
    "This is because `zip`, `enumerate`, and `range` produce what is called a generator.\n",
    "\n",
    "A generator will only produce each of its elements a single time, so if you call `list` on the same\n",
    "generator a second time, it will not have any elements to iterate over anymore.\n",
    "\n",
    "For more information, refer to the [Python documentation](https://docs.python.org/3/howto/functional.html#generators)."
   ],
   "metadata": {}
  },
  {
   "cell_type": "code",
   "execution_count": 37,
   "source": [
    "gdp_data = [9.607, 10.48, 11.06]\n",
    "years = [2013, 2014, 2015]\n",
    "z = zip(years, gdp_data)\n",
    "l = list(z)\n",
    "print(l)\n",
    "m = list(z)\n",
    "print(m)"
   ],
   "outputs": [
    {
     "output_type": "stream",
     "name": "stdout",
     "text": [
      "[(2013, 9.607), (2014, 10.48), (2015, 11.06)]\n",
      "[]\n"
     ]
    }
   ],
   "metadata": {
    "hide-output": false
   }
  },
  {
   "cell_type": "markdown",
   "source": [
    "## Associative Collections\n",
    "\n",
    "\n",
    "<a id='dictionaries'></a>"
   ],
   "metadata": {}
  },
  {
   "cell_type": "markdown",
   "source": [
    "### Dictionaries\n",
    "\n",
    "A dictionary (or dict) associates `key`s with `value`s.\n",
    "\n",
    "It will feel similar to a dictionary for words, where the keys are words and\n",
    "the values are the associated definitions.\n",
    "\n",
    "The most common way to create a `dict` is to use curly braces — `{`\n",
    "and `}` — like this:"
   ],
   "metadata": {}
  },
  {
   "cell_type": "code",
   "execution_count": null,
   "source": [
    "{\"key1\": value1, \"key2\": value2, ..., \"keyN\": valueN}"
   ],
   "outputs": [],
   "metadata": {
    "hide-output": false
   }
  },
  {
   "cell_type": "markdown",
   "source": [
    "where the `...` indicates that we can have any number of additional\n",
    "terms.\n",
    "\n",
    "The crucial part of the syntax is that each key-value pair is written\n",
    "`key: value` and that these pairs are separated by commas — `,`.\n",
    "\n",
    "Let’s see an example using our aggregate data on China in 2015."
   ],
   "metadata": {}
  },
  {
   "cell_type": "code",
   "execution_count": 38,
   "source": [
    "china_data = { \"country\"   : \"China\", \n",
    "               \"year\"      : 2015, \n",
    "               \"GDP\"       : 11.06, \n",
    "               \"population\": 1.371\n",
    "             }\n",
    "print(china_data)"
   ],
   "outputs": [
    {
     "output_type": "stream",
     "name": "stdout",
     "text": [
      "{'country': 'China', 'year': 2015, 'GDP': 11.06, 'population': 1.371}\n"
     ]
    }
   ],
   "metadata": {
    "hide-output": false
   }
  },
  {
   "cell_type": "markdown",
   "source": [
    "Unlike our above example using a `tuple`, a `dict` allows us to\n",
    "associate a name with each field, rather than having to remember the\n",
    "order within the tuple.\n",
    "\n",
    "Often, code that makes a dict is easier to read if we put each\n",
    "`key: value` pair on its own line. (Recall our earlier comment on\n",
    "using whitespace effectively to improve readability!)\n",
    "\n",
    "The code below is equivalent to what we saw above."
   ],
   "metadata": {}
  },
  {
   "cell_type": "code",
   "execution_count": null,
   "source": [
    "china_data = {\n",
    "    \"country\": \"China\",\n",
    "    \"year\": 2015,\n",
    "    \"GDP\" : 11.06,\n",
    "    \"population\": 1.371\n",
    "}"
   ],
   "outputs": [],
   "metadata": {
    "hide-output": false
   }
  },
  {
   "cell_type": "markdown",
   "source": [
    "Most often, the keys (e.g. “country”, “year”, “GDP”, and “population”)\n",
    "will be strings, but we could also use numbers (`int`, or\n",
    "`float`) or even tuples (or, rarely, a combination of types).\n",
    "\n",
    "The values can be **any** type and different from each other."
   ],
   "metadata": {}
  },
  {
   "cell_type": "markdown",
   "source": [
    "### Exercise\n",
    "\n",
    "See exercise 5 in the [exercise list](#ex2-2).\n",
    "\n",
    "This next example is meant to emphasize how values can be\n",
    "*anything* – including another dictionary."
   ],
   "metadata": {}
  },
  {
   "cell_type": "code",
   "execution_count": null,
   "source": [
    "companies = {\"AAPL\": {\"bid\": 175.96, \"ask\": 175.98},\n",
    "             \"GE\": {\"bid\": 1047.03, \"ask\": 1048.40},\n",
    "             \"TVIX\": {\"bid\": 8.38, \"ask\": 8.40}}\n",
    "print(companies)"
   ],
   "outputs": [],
   "metadata": {
    "hide-output": false
   }
  },
  {
   "cell_type": "markdown",
   "source": [
    "#### Getting, Setting, and Updating dict Items\n",
    "\n",
    "We can now ask Python to tell us the value for a particular key by using\n",
    "the syntax `d[k]`,  where `d` is our `dict` and `k` is the key for which we want to\n",
    "find the value.\n",
    "\n",
    "For example,"
   ],
   "metadata": {}
  },
  {
   "cell_type": "code",
   "execution_count": 39,
   "source": [
    "print(china_data[\"year\"])\n",
    "print(f\"country = {china_data['country']}, population = {china_data['population']}\")"
   ],
   "outputs": [
    {
     "output_type": "stream",
     "name": "stdout",
     "text": [
      "2015\n",
      "country = China, population = 1.371\n"
     ]
    }
   ],
   "metadata": {
    "hide-output": false
   }
  },
  {
   "cell_type": "markdown",
   "source": [
    "Note: when inside of a formatting string, you can use `'` instead of `\"` as above\n",
    "to ensure the formatting still works with the embedded code.\n",
    "\n",
    "If we ask for the value of a key that is not in the dict, we will get an error."
   ],
   "metadata": {}
  },
  {
   "cell_type": "code",
   "execution_count": null,
   "source": [
    "# uncomment the line below to see the error\n",
    "# china_data[\"inflation\"]"
   ],
   "outputs": [],
   "metadata": {
    "hide-output": false
   }
  },
  {
   "cell_type": "markdown",
   "source": [
    "We can also add new items to a dict using the syntax `d[new_key] = new_value`.\n",
    "\n",
    "Let’s see some examples."
   ],
   "metadata": {}
  },
  {
   "cell_type": "code",
   "execution_count": 40,
   "source": [
    "print(china_data)\n",
    "china_data[\"unemployment\"] = \"4.05%\"\n",
    "print(china_data)"
   ],
   "outputs": [
    {
     "output_type": "stream",
     "name": "stdout",
     "text": [
      "{'country': 'China', 'year': 2015, 'GDP': 11.06, 'population': 1.371}\n",
      "{'country': 'China', 'year': 2015, 'GDP': 11.06, 'population': 1.371, 'unemployment': '4.05%'}\n"
     ]
    }
   ],
   "metadata": {
    "hide-output": false
   }
  },
  {
   "cell_type": "markdown",
   "source": [
    "To update the value, we use assignment in the same way (which will\n",
    "create the key and value as required)."
   ],
   "metadata": {}
  },
  {
   "cell_type": "code",
   "execution_count": 41,
   "source": [
    "print(china_data)\n",
    "china_data[\"unemployment\"] = \"4.051%\"\n",
    "print(china_data)"
   ],
   "outputs": [
    {
     "output_type": "stream",
     "name": "stdout",
     "text": [
      "{'country': 'China', 'year': 2015, 'GDP': 11.06, 'population': 1.371, 'unemployment': '4.05%'}\n",
      "{'country': 'China', 'year': 2015, 'GDP': 11.06, 'population': 1.371, 'unemployment': '4.051%'}\n"
     ]
    }
   ],
   "metadata": {
    "hide-output": false
   }
  },
  {
   "cell_type": "markdown",
   "source": [
    "Or we could change the type."
   ],
   "metadata": {}
  },
  {
   "cell_type": "code",
   "execution_count": 42,
   "source": [
    "china_data[\"unemployment\"] = 4.051\n",
    "print(china_data)"
   ],
   "outputs": [
    {
     "output_type": "stream",
     "name": "stdout",
     "text": [
      "{'country': 'China', 'year': 2015, 'GDP': 11.06, 'population': 1.371, 'unemployment': 4.051}\n"
     ]
    }
   ],
   "metadata": {
    "hide-output": false
   }
  },
  {
   "cell_type": "markdown",
   "source": [
    "#### Exercise\n",
    "\n",
    "See exercise 6 in the [exercise list](#ex2-2)."
   ],
   "metadata": {}
  },
  {
   "cell_type": "markdown",
   "source": [
    "#### Common `dict` Functionality\n",
    "\n",
    "We can do some common things with dicts.\n",
    "\n",
    "We will demonstrate them with examples below."
   ],
   "metadata": {}
  },
  {
   "cell_type": "code",
   "execution_count": 43,
   "source": [
    "# number of key-value pairs in a dict\n",
    "len(china_data)"
   ],
   "outputs": [
    {
     "output_type": "execute_result",
     "data": {
      "text/plain": [
       "5"
      ]
     },
     "metadata": {},
     "execution_count": 43
    }
   ],
   "metadata": {
    "hide-output": false
   }
  },
  {
   "cell_type": "code",
   "execution_count": 44,
   "source": [
    "# get a list of all the keys\n",
    "list(china_data.keys())"
   ],
   "outputs": [
    {
     "output_type": "execute_result",
     "data": {
      "text/plain": [
       "['country', 'year', 'GDP', 'population', 'unemployment']"
      ]
     },
     "metadata": {},
     "execution_count": 44
    }
   ],
   "metadata": {
    "hide-output": false
   }
  },
  {
   "cell_type": "code",
   "execution_count": 45,
   "source": [
    "# get a list of all the values\n",
    "list(china_data.values())"
   ],
   "outputs": [
    {
     "output_type": "execute_result",
     "data": {
      "text/plain": [
       "['China', 2015, 11.06, 1.371, 4.051]"
      ]
     },
     "metadata": {},
     "execution_count": 45
    }
   ],
   "metadata": {
    "hide-output": false
   }
  },
  {
   "cell_type": "code",
   "execution_count": 46,
   "source": [
    "more_china_data = {\"irrigated_land\": 690_070, \"top_religions\": {\"buddhist\": 18.2, \"christian\" : 5.1, \"muslim\": 1.8}}\n",
    "\n",
    "# Add all key-value pairs in mydict2 to mydict.\n",
    "# if the key already appears in mydict, overwrite the\n",
    "# value with the value in mydict2\n",
    "china_data.update(more_china_data)\n",
    "china_data"
   ],
   "outputs": [
    {
     "output_type": "execute_result",
     "data": {
      "text/plain": [
       "{'country': 'China',\n",
       " 'year': 2015,\n",
       " 'GDP': 11.06,\n",
       " 'population': 1.371,\n",
       " 'unemployment': 4.051,\n",
       " 'irrigated_land': 690070,\n",
       " 'top_religions': {'buddhist': 18.2, 'christian': 5.1, 'muslim': 1.8}}"
      ]
     },
     "metadata": {},
     "execution_count": 46
    }
   ],
   "metadata": {
    "hide-output": false
   }
  },
  {
   "cell_type": "code",
   "execution_count": 47,
   "source": [
    "# Get the value associated with a key or return a default value\n",
    "# use this to avoid the NameError we saw above if you have a reasonable\n",
    "# default value\n",
    "china_data.get(\"irrigated_land\", \"Data Not Available\")"
   ],
   "outputs": [
    {
     "output_type": "execute_result",
     "data": {
      "text/plain": [
       "690070"
      ]
     },
     "metadata": {},
     "execution_count": 47
    }
   ],
   "metadata": {
    "hide-output": false
   }
  },
  {
   "cell_type": "code",
   "execution_count": 49,
   "source": [
    "china_data.get(\"death_rate\", \"Data Not Available\")"
   ],
   "outputs": [
    {
     "output_type": "execute_result",
     "data": {
      "text/plain": [
       "'Data Not Available'"
      ]
     },
     "metadata": {},
     "execution_count": 49
    }
   ],
   "metadata": {
    "hide-output": false
   }
  },
  {
   "cell_type": "markdown",
   "source": [
    "#### Exercise\n",
    "\n",
    "See exercise 7 in the [exercise list](#ex2-2)."
   ],
   "metadata": {}
  },
  {
   "cell_type": "markdown",
   "source": [
    "#### Exercise\n",
    "\n",
    "See exercise 8 in the [exercise list](#ex2-2)."
   ],
   "metadata": {}
  },
  {
   "cell_type": "markdown",
   "source": [
    "### Sets (Optional)\n",
    "\n",
    "Python has an additional way to represent collections of items: sets.\n",
    "\n",
    "Sets come up infrequently, but you should be aware of them.\n",
    "\n",
    "If you are familiar with the mathematical concept of sets, then you will\n",
    "understand the majority of Python sets already.\n",
    "\n",
    "If you don’t know the math behind sets, don’t worry: we’ll cover the\n",
    "basics of Python’s sets here.\n",
    "\n",
    "A set is an *unordered* collection of *unique* elements.\n",
    "\n",
    "The syntax for creating a set uses curly bracket `{` and `}`."
   ],
   "metadata": {}
  },
  {
   "cell_type": "code",
   "execution_count": null,
   "source": [
    "{item1, item2, ..., itemN}"
   ],
   "outputs": [],
   "metadata": {
    "hide-output": false
   }
  },
  {
   "cell_type": "markdown",
   "source": [
    "Here is an example."
   ],
   "metadata": {}
  },
  {
   "cell_type": "code",
   "execution_count": 50,
   "source": [
    "s = {1, \"hello\", 3.0}\n",
    "print(\"s has type\", type(s))\n",
    "s"
   ],
   "outputs": [
    {
     "output_type": "stream",
     "name": "stdout",
     "text": [
      "s has type <class 'set'>\n"
     ]
    },
    {
     "output_type": "execute_result",
     "data": {
      "text/plain": [
       "{1, 3.0, 'hello'}"
      ]
     },
     "metadata": {},
     "execution_count": 50
    }
   ],
   "metadata": {
    "hide-output": false
   }
  },
  {
   "cell_type": "markdown",
   "source": [
    "### Exercise\n",
    "\n",
    "See exercise 9 in the [exercise list](#ex2-2).\n",
    "\n",
    "As with lists and tuples, we can check if something is `in` the set\n",
    "and check the set’s length:"
   ],
   "metadata": {}
  },
  {
   "cell_type": "code",
   "execution_count": 51,
   "source": [
    "print(\"len(s) =\", len(s))\n",
    "\"hello\" in s"
   ],
   "outputs": [
    {
     "output_type": "stream",
     "name": "stdout",
     "text": [
      "len(s) = 3\n"
     ]
    },
    {
     "output_type": "execute_result",
     "data": {
      "text/plain": [
       "True"
      ]
     },
     "metadata": {},
     "execution_count": 51
    }
   ],
   "metadata": {
    "hide-output": false
   }
  },
  {
   "cell_type": "markdown",
   "source": [
    "Unlike lists and tuples, we can’t extract elements of a set `s` using\n",
    "`s[N]` where `N` is a number."
   ],
   "metadata": {}
  },
  {
   "cell_type": "code",
   "execution_count": 53,
   "source": [
    "# Uncomment the line below to see what happens\n",
    "# s[1]"
   ],
   "outputs": [],
   "metadata": {
    "hide-output": false
   }
  },
  {
   "cell_type": "markdown",
   "source": [
    "This is because sets are not ordered, so the notion of getting the\n",
    "second element (`s[1]`) is not well defined.\n",
    "\n",
    "We add elements to a set `s` using `s.add`."
   ],
   "metadata": {}
  },
  {
   "cell_type": "code",
   "execution_count": 54,
   "source": [
    "s.add(100)\n",
    "s"
   ],
   "outputs": [
    {
     "output_type": "execute_result",
     "data": {
      "text/plain": [
       "{1, 100, 3.0, 'hello'}"
      ]
     },
     "metadata": {},
     "execution_count": 54
    }
   ],
   "metadata": {
    "hide-output": false
   }
  },
  {
   "cell_type": "code",
   "execution_count": 55,
   "source": [
    "s.add(\"hello\") # nothing happens, why?\n",
    "s"
   ],
   "outputs": [
    {
     "output_type": "execute_result",
     "data": {
      "text/plain": [
       "{1, 100, 3.0, 'hello'}"
      ]
     },
     "metadata": {},
     "execution_count": 55
    }
   ],
   "metadata": {
    "hide-output": false
   }
  },
  {
   "cell_type": "markdown",
   "source": [
    "We can also do set operations.\n",
    "\n",
    "Consider the set `s` from above and the set\n",
    "`s2 = {\"hello\", \"world\"}`.\n",
    "\n",
    "- `s.union(s2)`: returns a set with all elements in either `s` or\n",
    "  `s2`  \n",
    "- `s.intersection(s2)`: returns a set with all elements in both `s`\n",
    "  and `s2`  \n",
    "- `s.difference(s2)`: returns a set with all elements in `s` that\n",
    "  aren’t in `s2`  \n",
    "- `s.symmetric_difference(s2)`: returns a set with all elements in\n",
    "  only one of `s` and `s2`  "
   ],
   "metadata": {}
  },
  {
   "cell_type": "markdown",
   "source": [
    "### Exercise\n",
    "\n",
    "See exercise 10 in the [exercise list](#ex2-2).\n",
    "\n",
    "As with tuples and lists, a `set` function can convert other\n",
    "collections to sets."
   ],
   "metadata": {}
  },
  {
   "cell_type": "code",
   "execution_count": 56,
   "source": [
    "x = [1, 2, 3, 1]\n",
    "set(x)"
   ],
   "outputs": [
    {
     "output_type": "execute_result",
     "data": {
      "text/plain": [
       "{1, 2, 3}"
      ]
     },
     "metadata": {},
     "execution_count": 56
    }
   ],
   "metadata": {
    "hide-output": false
   }
  },
  {
   "cell_type": "code",
   "execution_count": 57,
   "source": [
    "t = (1, 2, 3, 1)\n",
    "set(t)"
   ],
   "outputs": [
    {
     "output_type": "execute_result",
     "data": {
      "text/plain": [
       "{1, 2, 3}"
      ]
     },
     "metadata": {},
     "execution_count": 57
    }
   ],
   "metadata": {
    "hide-output": false
   }
  },
  {
   "cell_type": "markdown",
   "source": [
    "Likewise, we can convert sets to lists and tuples."
   ],
   "metadata": {}
  },
  {
   "cell_type": "code",
   "execution_count": 58,
   "source": [
    "list(s)"
   ],
   "outputs": [
    {
     "output_type": "execute_result",
     "data": {
      "text/plain": [
       "[1, 3.0, 100, 'hello']"
      ]
     },
     "metadata": {},
     "execution_count": 58
    }
   ],
   "metadata": {
    "hide-output": false
   }
  },
  {
   "cell_type": "code",
   "execution_count": 59,
   "source": [
    "tuple(s)"
   ],
   "outputs": [
    {
     "output_type": "execute_result",
     "data": {
      "text/plain": [
       "(1, 3.0, 100, 'hello')"
      ]
     },
     "metadata": {},
     "execution_count": 59
    }
   ],
   "metadata": {
    "hide-output": false
   }
  },
  {
   "cell_type": "markdown",
   "source": [
    "\n",
    "<a id='ex2-2'></a>"
   ],
   "metadata": {}
  },
  {
   "cell_type": "markdown",
   "source": [
    "## Exercises"
   ],
   "metadata": {}
  },
  {
   "cell_type": "markdown",
   "source": [
    "### Exercise 1\n",
    "\n",
    "In the first cell, try `y.append(z)`.\n",
    "\n",
    "In the second cell try `y.extend(z)`.\n",
    "\n",
    "Explain the behavior.\n",
    "\n",
    "When you are trying to explain use `y.append?` and `y.extend?` to\n",
    "see a description of what these methods are supposed to do."
   ],
   "metadata": {}
  },
  {
   "cell_type": "code",
   "execution_count": null,
   "source": [
    "y = [\"a\", \"b\", \"c\"]\n",
    "z = [1, 2, 3]\n",
    "# your code here\n",
    "print(y)"
   ],
   "outputs": [],
   "metadata": {
    "hide-output": false
   }
  },
  {
   "cell_type": "code",
   "execution_count": null,
   "source": [
    "y = [\"a\", \"b\", \"c\"]\n",
    "z = [1, 2, 3]\n",
    "# your code here\n",
    "print(y)"
   ],
   "outputs": [],
   "metadata": {
    "hide-output": false
   }
  },
  {
   "cell_type": "markdown",
   "source": [
    "([back to text](#dir2-2-1))"
   ],
   "metadata": {}
  },
  {
   "cell_type": "markdown",
   "source": [
    "### Exercise 2\n",
    "\n",
    "Experiment with the other two versions of the `range` function."
   ],
   "metadata": {}
  },
  {
   "cell_type": "code",
   "execution_count": null,
   "source": [
    "# try list(range(a, N)) -- you pick `a` and `N`"
   ],
   "outputs": [],
   "metadata": {
    "hide-output": false
   }
  },
  {
   "cell_type": "code",
   "execution_count": null,
   "source": [
    "# try list(range(a, N, d)) -- you pick `a`, `N`, and `d`"
   ],
   "outputs": [],
   "metadata": {
    "hide-output": false
   }
  },
  {
   "cell_type": "markdown",
   "source": [
    "([back to text](#dir2-2-2))"
   ],
   "metadata": {}
  },
  {
   "cell_type": "markdown",
   "source": [
    "### Exercise 3\n",
    "\n",
    "Verify that tuples are indeed immutable by attempting the following:\n",
    "\n",
    "- Changing the first element of `t` to be `100`  \n",
    "- Appending a new element `\"!!\"` to the end of `t` (remember with a\n",
    "  list `x` we would use `x.append(\"!!\")` to do this  \n",
    "- Sorting `t`  \n",
    "- Reversing `t`  "
   ],
   "metadata": {}
  },
  {
   "cell_type": "code",
   "execution_count": null,
   "source": [
    "# change first element of t"
   ],
   "outputs": [],
   "metadata": {
    "hide-output": false
   }
  },
  {
   "cell_type": "code",
   "execution_count": null,
   "source": [
    "# appending to t"
   ],
   "outputs": [],
   "metadata": {
    "hide-output": false
   }
  },
  {
   "cell_type": "code",
   "execution_count": null,
   "source": [
    "# sorting t"
   ],
   "outputs": [],
   "metadata": {
    "hide-output": false
   }
  },
  {
   "cell_type": "code",
   "execution_count": null,
   "source": [
    "# reversing t"
   ],
   "outputs": [],
   "metadata": {
    "hide-output": false
   }
  },
  {
   "cell_type": "markdown",
   "source": [
    "([back to text](#dir2-2-3))"
   ],
   "metadata": {}
  },
  {
   "cell_type": "markdown",
   "source": [
    "### Exercise 4\n",
    "\n",
    "**Challenging** For the tuple `foo` below, use a combination of `zip`,\n",
    "`range`, and `len` to mimic `enumerate(foo)`.\n",
    "\n",
    "Verify that your proposed solution is correct by converting each to a list\n",
    "and checking equality with `==`.\n",
    "\n",
    "You can see what the answer should look like by starting with\n",
    "`list(enumerate(foo))`."
   ],
   "metadata": {}
  },
  {
   "cell_type": "code",
   "execution_count": null,
   "source": [
    "foo = (\"good\", \"luck!\")"
   ],
   "outputs": [],
   "metadata": {
    "hide-output": false
   }
  },
  {
   "cell_type": "markdown",
   "source": [
    "([back to text](#dir2-2-4))"
   ],
   "metadata": {}
  },
  {
   "cell_type": "markdown",
   "source": [
    "### Exercise 5\n",
    "\n",
    "Create a new dict which associates stock tickers with its stock price.\n",
    "\n",
    "Here are some tickers and a price.\n",
    "\n",
    "- AAPL: 175.96  \n",
    "- GOOGL: 1047.43  \n",
    "- TVIX: 8.38  "
   ],
   "metadata": {}
  },
  {
   "cell_type": "code",
   "execution_count": null,
   "source": [
    "# your code here"
   ],
   "outputs": [],
   "metadata": {
    "hide-output": false
   }
  },
  {
   "cell_type": "markdown",
   "source": [
    "([back to text](#dir2-2-5))"
   ],
   "metadata": {}
  },
  {
   "cell_type": "markdown",
   "source": [
    "### Exercise 6\n",
    "\n",
    "Look at the [World Factbook for Australia](https://www.cia.gov/the-world-factbook/countries/australia)\n",
    "and create a dictionary with data containing the following types:\n",
    "float, string, integer, list, and dict.  Choose any data you wish.\n",
    "\n",
    "To confirm, you should have a dictionary that you identified via a key."
   ],
   "metadata": {}
  },
  {
   "cell_type": "code",
   "execution_count": null,
   "source": [
    "# your code here"
   ],
   "outputs": [],
   "metadata": {
    "hide-output": false
   }
  },
  {
   "cell_type": "markdown",
   "source": [
    "([back to text](#dir2-2-6))"
   ],
   "metadata": {}
  },
  {
   "cell_type": "markdown",
   "source": [
    "### Exercise 7\n",
    "\n",
    "Use Jupyter’s help facilities to learn how to use the `pop` method to\n",
    "remove the key `\"irrigated_land\"` (and its value) from the dict."
   ],
   "metadata": {}
  },
  {
   "cell_type": "code",
   "execution_count": null,
   "source": [
    "# uncomment and use the Inspector or ?\n",
    "#china_data.pop()"
   ],
   "outputs": [],
   "metadata": {
    "hide-output": false
   }
  },
  {
   "cell_type": "markdown",
   "source": [
    "([back to text](#dir2-2-7))"
   ],
   "metadata": {}
  },
  {
   "cell_type": "markdown",
   "source": [
    "### Exercise 8\n",
    "\n",
    "Explain what happens to the value you popped.\n",
    "\n",
    "Experiment with calling `pop` twice."
   ],
   "metadata": {}
  },
  {
   "cell_type": "code",
   "execution_count": null,
   "source": [
    "# your code here"
   ],
   "outputs": [],
   "metadata": {
    "hide-output": false
   }
  },
  {
   "cell_type": "markdown",
   "source": [
    "([back to text](#dir2-2-8))"
   ],
   "metadata": {}
  },
  {
   "cell_type": "markdown",
   "source": [
    "### Exercise 9\n",
    "\n",
    "Try creating a set with repeated elements (e.g. `{1, 2, 1, 2, 1, 2}`).\n",
    "\n",
    "What happens?\n",
    "\n",
    "Why?"
   ],
   "metadata": {}
  },
  {
   "cell_type": "code",
   "execution_count": null,
   "source": [
    "# your code here"
   ],
   "outputs": [],
   "metadata": {
    "hide-output": false
   }
  },
  {
   "cell_type": "markdown",
   "source": [
    "([back to text](#dir2-2-9))"
   ],
   "metadata": {}
  },
  {
   "cell_type": "markdown",
   "source": [
    "### Exercise 10\n",
    "\n",
    "Test out two of the operations described above using the original set we\n",
    "created, `s`, and the set created below `s2`."
   ],
   "metadata": {}
  },
  {
   "cell_type": "code",
   "execution_count": null,
   "source": [
    "s2 = {\"hello\", \"world\"}"
   ],
   "outputs": [],
   "metadata": {
    "hide-output": false
   }
  },
  {
   "cell_type": "code",
   "execution_count": null,
   "source": [
    "# Operation 1"
   ],
   "outputs": [],
   "metadata": {
    "hide-output": false
   }
  },
  {
   "cell_type": "code",
   "execution_count": null,
   "source": [
    "# Operation 2"
   ],
   "outputs": [],
   "metadata": {
    "hide-output": false
   }
  },
  {
   "cell_type": "markdown",
   "source": [
    "([back to text](#dir2-2-10))"
   ],
   "metadata": {}
  }
 ],
 "metadata": {
  "date": 1627429658.7844255,
  "filename": "collections.md",
  "kernelspec": {
   "name": "python3",
   "display_name": "Python 3.7.4 64-bit ('anaconda3': virtualenv)"
  },
  "language_info": {
   "codemirror_mode": {
    "name": "ipython",
    "version": 3
   },
   "file_extension": ".py",
   "mimetype": "text/x-python",
   "name": "python",
   "nbconvert_exporter": "python",
   "pygments_lexer": "ipython3",
   "version": "3.7.4"
  },
  "latex_envs": {
   "LaTeX_envs_menu_present": true,
   "autoclose": false,
   "autocomplete": false,
   "bibliofile": "smolyak.bib",
   "cite_by": "apalike",
   "current_citInitial": 1,
   "eqLabelWithNumbers": true,
   "eqNumInitial": 1,
   "hotkeys": {
    "equation": "Ctrl-E",
    "itemize": "Ctrl-I"
   },
   "labels_anchors": false,
   "latex_user_defs": false,
   "report_style_numbering": true,
   "user_envs_cfg": true
  },
  "title": "Collections",
  "toc": {
   "base_numbering": 1,
   "nav_menu": {},
   "number_sections": true,
   "sideBar": true,
   "skip_h1_title": false,
   "title_cell": "Table of Contents",
   "title_sidebar": "Contents",
   "toc_cell": true,
   "toc_position": {},
   "toc_section_display": true,
   "toc_window_display": true
  },
  "interpreter": {
   "hash": "99e3b8c1b16f2730d4d67f23e07cf6d2d2f0b0a606d6099a75a6361260e98536"
  }
 },
 "nbformat": 4,
 "nbformat_minor": 5
}